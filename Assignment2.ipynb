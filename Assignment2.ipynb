{
 "cells": [
  {
   "cell_type": "code",
   "execution_count": 1,
   "metadata": {},
   "outputs": [],
   "source": [
    "import gzip\n",
    "import pandas as pd\n",
    "import matplotlib.pyplot as plt\n",
    "import math\n",
    "import seaborn as sns\n",
    "\n",
    "from sklearn.linear_model import LinearRegression\n",
    "from sklearn.metrics import mean_squared_error\n",
    "from sklearn.metrics import mean_absolute_error\n",
    "\n",
    "from numpy import cov\n",
    "from sklearn.utils import shuffle\n",
    "import numpy as nps\n",
    "\n",
    "from sklearn.feature_extraction.text import TfidfVectorizer\n",
    "from scipy.sparse import csr_matrix\n",
    "import scipy.sparse as sp\n",
    "from nltk.corpus import stopwords"
   ]
  },
  {
   "cell_type": "code",
   "execution_count": 2,
   "metadata": {},
   "outputs": [],
   "source": [
    "data = {}\n",
    "unzipped = gzip.open('Beeradvocate.txt.gz', 'rb')\n",
    "\n",
    "ind = 0\n",
    "currdat = {}\n",
    "with unzipped as f:\n",
    "    for line in f:\n",
    "        clean = line.decode('utf-8')\n",
    "        clean = clean.replace('\\t', '')\n",
    "        splitted = clean.replace('\\n', '').split(':')\n",
    "\n",
    "        if (len(splitted) == 1):\n",
    "            data[f\"{ind}\"] = currdat\n",
    "            currdat = {}\n",
    "            ind = ind + 1\n",
    "        \n",
    "        else:\n",
    "            currdat[f\"{splitted[0]}\"] = splitted[1].strip()\n",
    "\n",
    "df= pd.DataFrame(data).transpose()"
   ]
  },
  {
   "cell_type": "code",
   "execution_count": 3,
   "metadata": {},
   "outputs": [
    {
     "data": {
      "text/html": [
       "<div>\n",
       "<style scoped>\n",
       "    .dataframe tbody tr th:only-of-type {\n",
       "        vertical-align: middle;\n",
       "    }\n",
       "\n",
       "    .dataframe tbody tr th {\n",
       "        vertical-align: top;\n",
       "    }\n",
       "\n",
       "    .dataframe thead th {\n",
       "        text-align: right;\n",
       "    }\n",
       "</style>\n",
       "<table border=\"1\" class=\"dataframe\">\n",
       "  <thead>\n",
       "    <tr style=\"text-align: right;\">\n",
       "      <th></th>\n",
       "      <th>beer/ABV</th>\n",
       "      <th>beer/beerId</th>\n",
       "      <th>beer/brewerId</th>\n",
       "      <th>beer/name</th>\n",
       "      <th>beer/style</th>\n",
       "      <th>review/appearance</th>\n",
       "      <th>review/aroma</th>\n",
       "      <th>review/overall</th>\n",
       "      <th>review/palate</th>\n",
       "      <th>review/profileName</th>\n",
       "      <th>review/taste</th>\n",
       "      <th>review/text</th>\n",
       "      <th>review/time</th>\n",
       "    </tr>\n",
       "  </thead>\n",
       "  <tbody>\n",
       "    <tr>\n",
       "      <th>0</th>\n",
       "      <td>5.00</td>\n",
       "      <td>47986</td>\n",
       "      <td>10325</td>\n",
       "      <td>Sausa Weizen</td>\n",
       "      <td>Hefeweizen</td>\n",
       "      <td>2.5</td>\n",
       "      <td>2</td>\n",
       "      <td>1.5</td>\n",
       "      <td>1.5</td>\n",
       "      <td>stcules</td>\n",
       "      <td>1.5</td>\n",
       "      <td>A lot of foam. But a lot.In the smell some ban...</td>\n",
       "      <td>1234817823</td>\n",
       "    </tr>\n",
       "    <tr>\n",
       "      <th>1</th>\n",
       "      <td>6.20</td>\n",
       "      <td>48213</td>\n",
       "      <td>10325</td>\n",
       "      <td>Red Moon</td>\n",
       "      <td>English Strong Ale</td>\n",
       "      <td>3</td>\n",
       "      <td>2.5</td>\n",
       "      <td>3</td>\n",
       "      <td>3</td>\n",
       "      <td>stcules</td>\n",
       "      <td>3</td>\n",
       "      <td>Dark red color, light beige foam, average.In t...</td>\n",
       "      <td>1235915097</td>\n",
       "    </tr>\n",
       "    <tr>\n",
       "      <th>2</th>\n",
       "      <td>6.50</td>\n",
       "      <td>48215</td>\n",
       "      <td>10325</td>\n",
       "      <td>Black Horse Black Beer</td>\n",
       "      <td>Foreign / Export Stout</td>\n",
       "      <td>3</td>\n",
       "      <td>2.5</td>\n",
       "      <td>3</td>\n",
       "      <td>3</td>\n",
       "      <td>stcules</td>\n",
       "      <td>3</td>\n",
       "      <td>Almost totally black. Beige foam, quite compac...</td>\n",
       "      <td>1235916604</td>\n",
       "    </tr>\n",
       "    <tr>\n",
       "      <th>3</th>\n",
       "      <td>5.00</td>\n",
       "      <td>47969</td>\n",
       "      <td>10325</td>\n",
       "      <td>Sausa Pils</td>\n",
       "      <td>German Pilsener</td>\n",
       "      <td>3.5</td>\n",
       "      <td>3</td>\n",
       "      <td>3</td>\n",
       "      <td>2.5</td>\n",
       "      <td>stcules</td>\n",
       "      <td>3</td>\n",
       "      <td>Golden yellow color. White, compact foam, quit...</td>\n",
       "      <td>1234725145</td>\n",
       "    </tr>\n",
       "    <tr>\n",
       "      <th>4</th>\n",
       "      <td>7.70</td>\n",
       "      <td>64883</td>\n",
       "      <td>1075</td>\n",
       "      <td>Cauldron DIPA</td>\n",
       "      <td>American Double / Imperial IPA</td>\n",
       "      <td>4</td>\n",
       "      <td>4.5</td>\n",
       "      <td>4</td>\n",
       "      <td>4</td>\n",
       "      <td>johnmichaelsen</td>\n",
       "      <td>4.5</td>\n",
       "      <td>According to the website, the style for the Ca...</td>\n",
       "      <td>1293735206</td>\n",
       "    </tr>\n",
       "  </tbody>\n",
       "</table>\n",
       "</div>"
      ],
      "text/plain": [
       "  beer/ABV beer/beerId beer/brewerId               beer/name  \\\n",
       "0     5.00       47986         10325            Sausa Weizen   \n",
       "1     6.20       48213         10325                Red Moon   \n",
       "2     6.50       48215         10325  Black Horse Black Beer   \n",
       "3     5.00       47969         10325              Sausa Pils   \n",
       "4     7.70       64883          1075           Cauldron DIPA   \n",
       "\n",
       "                       beer/style review/appearance review/aroma  \\\n",
       "0                      Hefeweizen               2.5            2   \n",
       "1              English Strong Ale                 3          2.5   \n",
       "2          Foreign / Export Stout                 3          2.5   \n",
       "3                 German Pilsener               3.5            3   \n",
       "4  American Double / Imperial IPA                 4          4.5   \n",
       "\n",
       "  review/overall review/palate review/profileName review/taste  \\\n",
       "0            1.5           1.5            stcules          1.5   \n",
       "1              3             3            stcules            3   \n",
       "2              3             3            stcules            3   \n",
       "3              3           2.5            stcules            3   \n",
       "4              4             4     johnmichaelsen          4.5   \n",
       "\n",
       "                                         review/text review/time  \n",
       "0  A lot of foam. But a lot.In the smell some ban...  1234817823  \n",
       "1  Dark red color, light beige foam, average.In t...  1235915097  \n",
       "2  Almost totally black. Beige foam, quite compac...  1235916604  \n",
       "3  Golden yellow color. White, compact foam, quit...  1234725145  \n",
       "4  According to the website, the style for the Ca...  1293735206  "
      ]
     },
     "execution_count": 3,
     "metadata": {},
     "output_type": "execute_result"
    }
   ],
   "source": [
    "df.head()"
   ]
  },
  {
   "cell_type": "code",
   "execution_count": 4,
   "metadata": {},
   "outputs": [
    {
     "data": {
      "text/plain": [
       "(1518829, 13)"
      ]
     },
     "execution_count": 4,
     "metadata": {},
     "output_type": "execute_result"
    }
   ],
   "source": [
    "df = df[df['beer/ABV'] != '']\n",
    "df.shape\n",
    "df = shuffle(df)"
   ]
  },
  {
   "cell_type": "code",
   "execution_count": 16,
   "metadata": {},
   "outputs": [
    {
     "data": {
      "text/plain": [
       "(200000, 13)"
      ]
     },
     "execution_count": 16,
     "metadata": {},
     "output_type": "execute_result"
    }
   ],
   "source": [
    "# use only the first 200000 data points from the dataset\n",
    "beer_dat = df.copy()[:200000]\n",
    "beer_dat.shape"
   ]
  },
  {
   "cell_type": "code",
   "execution_count": 17,
   "metadata": {},
   "outputs": [
    {
     "name": "stdout",
     "output_type": "stream",
     "text": [
      "104\n",
      "104\n"
     ]
    }
   ],
   "source": [
    "# check the number of unique styles of beer\n",
    "print(len(df['beer/style'].unique()))\n",
    "print(len(beer_dat['beer/style'].unique()))"
   ]
  },
  {
   "cell_type": "code",
   "execution_count": 18,
   "metadata": {},
   "outputs": [],
   "source": [
    "beer_dat['review/appearance'] = beer_dat['review/appearance'].apply(float)\n",
    "beer_dat['review/aroma'] = beer_dat['review/aroma'].apply(float)\n",
    "beer_dat['review/overall'] = beer_dat['review/overall'].apply(float)\n",
    "beer_dat['review/palate'] = beer_dat['review/palate'].apply(float)\n",
    "beer_dat['review/taste'] = beer_dat['review/taste'].apply(float)\n",
    "beer_dat['beer/ABV'] = beer_dat['beer/ABV'].apply(float)"
   ]
  },
  {
   "cell_type": "code",
   "execution_count": 19,
   "metadata": {},
   "outputs": [],
   "source": [
    "beer_dat = beer_dat.rename(columns={'review/appearance': 'Appearance', 'review/aroma': 'Aroma', 'review/overall':'Overall',\n",
    "                  'review/palate':'Palate', 'review/taste':'Taste', 'beer/ABV':'ABV'})"
   ]
  },
  {
   "cell_type": "markdown",
   "metadata": {},
   "source": [
    "## Part 1: Exploratory Analysis on Beer Dataset"
   ]
  },
  {
   "cell_type": "code",
   "execution_count": 20,
   "metadata": {},
   "outputs": [
    {
     "data": {
      "text/html": [
       "<div>\n",
       "<style scoped>\n",
       "    .dataframe tbody tr th:only-of-type {\n",
       "        vertical-align: middle;\n",
       "    }\n",
       "\n",
       "    .dataframe tbody tr th {\n",
       "        vertical-align: top;\n",
       "    }\n",
       "\n",
       "    .dataframe thead th {\n",
       "        text-align: right;\n",
       "    }\n",
       "</style>\n",
       "<table border=\"1\" class=\"dataframe\">\n",
       "  <thead>\n",
       "    <tr style=\"text-align: right;\">\n",
       "      <th></th>\n",
       "      <th>ABV</th>\n",
       "      <th>beer/beerId</th>\n",
       "      <th>beer/brewerId</th>\n",
       "      <th>beer/name</th>\n",
       "      <th>beer/style</th>\n",
       "      <th>Appearance</th>\n",
       "      <th>Aroma</th>\n",
       "      <th>Overall</th>\n",
       "      <th>Palate</th>\n",
       "      <th>review/profileName</th>\n",
       "      <th>Taste</th>\n",
       "      <th>review/text</th>\n",
       "      <th>review/time</th>\n",
       "    </tr>\n",
       "  </thead>\n",
       "  <tbody>\n",
       "    <tr>\n",
       "      <th>396193</th>\n",
       "      <td>8.8</td>\n",
       "      <td>1115</td>\n",
       "      <td>389</td>\n",
       "      <td>Lion Stout</td>\n",
       "      <td>Foreign / Export Stout</td>\n",
       "      <td>3.0</td>\n",
       "      <td>4.0</td>\n",
       "      <td>4.5</td>\n",
       "      <td>3.5</td>\n",
       "      <td>mrasskicktastic</td>\n",
       "      <td>4.0</td>\n",
       "      <td>A - Black with a creamy one and a half finger ...</td>\n",
       "      <td>1158441784</td>\n",
       "    </tr>\n",
       "    <tr>\n",
       "      <th>1576129</th>\n",
       "      <td>5.5</td>\n",
       "      <td>11280</td>\n",
       "      <td>4701</td>\n",
       "      <td>Yukon Red Amber Ale (Arctic Red)</td>\n",
       "      <td>American Amber / Red Ale</td>\n",
       "      <td>4.0</td>\n",
       "      <td>4.0</td>\n",
       "      <td>4.5</td>\n",
       "      <td>4.0</td>\n",
       "      <td>wordemupg</td>\n",
       "      <td>4.5</td>\n",
       "      <td>341ml bottle poured into pint glass dec29 2009...</td>\n",
       "      <td>1262140075</td>\n",
       "    </tr>\n",
       "    <tr>\n",
       "      <th>1034797</th>\n",
       "      <td>5.1</td>\n",
       "      <td>132</td>\n",
       "      <td>39</td>\n",
       "      <td>Ayinger Bräu Weisse</td>\n",
       "      <td>Hefeweizen</td>\n",
       "      <td>4.5</td>\n",
       "      <td>4.0</td>\n",
       "      <td>4.5</td>\n",
       "      <td>4.0</td>\n",
       "      <td>Stagi</td>\n",
       "      <td>4.0</td>\n",
       "      <td>500ml bottle.A very cloudy yellow with a good ...</td>\n",
       "      <td>1192575974</td>\n",
       "    </tr>\n",
       "    <tr>\n",
       "      <th>1309276</th>\n",
       "      <td>5.0</td>\n",
       "      <td>65</td>\n",
       "      <td>29</td>\n",
       "      <td>Budweiser</td>\n",
       "      <td>American Adjunct Lager</td>\n",
       "      <td>1.5</td>\n",
       "      <td>2.5</td>\n",
       "      <td>2.5</td>\n",
       "      <td>2.5</td>\n",
       "      <td>Happyhour</td>\n",
       "      <td>1.5</td>\n",
       "      <td>I cant even describe what this color is... its...</td>\n",
       "      <td>1076826438</td>\n",
       "    </tr>\n",
       "    <tr>\n",
       "      <th>1483420</th>\n",
       "      <td>5.5</td>\n",
       "      <td>13042</td>\n",
       "      <td>3465</td>\n",
       "      <td>Spécial De Ryck</td>\n",
       "      <td>Belgian Pale Ale</td>\n",
       "      <td>4.0</td>\n",
       "      <td>3.5</td>\n",
       "      <td>4.0</td>\n",
       "      <td>3.0</td>\n",
       "      <td>TheLongBeachBum</td>\n",
       "      <td>3.5</td>\n",
       "      <td>Sampled in the on-site Old Stables Tasting Roo...</td>\n",
       "      <td>1113888860</td>\n",
       "    </tr>\n",
       "  </tbody>\n",
       "</table>\n",
       "</div>"
      ],
      "text/plain": [
       "         ABV beer/beerId beer/brewerId                         beer/name  \\\n",
       "396193   8.8        1115           389                        Lion Stout   \n",
       "1576129  5.5       11280          4701  Yukon Red Amber Ale (Arctic Red)   \n",
       "1034797  5.1         132            39               Ayinger Bräu Weisse   \n",
       "1309276  5.0          65            29                         Budweiser   \n",
       "1483420  5.5       13042          3465                   Spécial De Ryck   \n",
       "\n",
       "                       beer/style  Appearance  Aroma  Overall  Palate  \\\n",
       "396193     Foreign / Export Stout         3.0    4.0      4.5     3.5   \n",
       "1576129  American Amber / Red Ale         4.0    4.0      4.5     4.0   \n",
       "1034797                Hefeweizen         4.5    4.0      4.5     4.0   \n",
       "1309276    American Adjunct Lager         1.5    2.5      2.5     2.5   \n",
       "1483420          Belgian Pale Ale         4.0    3.5      4.0     3.0   \n",
       "\n",
       "        review/profileName  Taste  \\\n",
       "396193     mrasskicktastic    4.0   \n",
       "1576129          wordemupg    4.5   \n",
       "1034797              Stagi    4.0   \n",
       "1309276          Happyhour    1.5   \n",
       "1483420    TheLongBeachBum    3.5   \n",
       "\n",
       "                                               review/text review/time  \n",
       "396193   A - Black with a creamy one and a half finger ...  1158441784  \n",
       "1576129  341ml bottle poured into pint glass dec29 2009...  1262140075  \n",
       "1034797  500ml bottle.A very cloudy yellow with a good ...  1192575974  \n",
       "1309276  I cant even describe what this color is... its...  1076826438  \n",
       "1483420  Sampled in the on-site Old Stables Tasting Roo...  1113888860  "
      ]
     },
     "execution_count": 20,
     "metadata": {},
     "output_type": "execute_result"
    }
   ],
   "source": [
    "beer_dat[:5]"
   ]
  },
  {
   "cell_type": "code",
   "execution_count": 37,
   "metadata": {},
   "outputs": [
    {
     "data": {
      "image/png": "[encoded data removed]",
      "text/plain": [
       "<Figure size 504x360 with 2 Axes>"
      ]
     },
     "metadata": {
      "needs_background": "light"
     },
     "output_type": "display_data"
    }
   ],
   "source": [
    "plt.figure(figsize=(7, 5))\n",
    "beercor = beer_dat[['ABV', 'Appearance', 'Aroma', 'Palate', 'Taste', 'Overall']].corr()\n",
    "ax = sns.heatmap(beercor, annot=True, cmap=plt.cm.Reds) \n",
    "ax.xaxis.set_ticks_position('top')\n",
    "loc, labels = plt.yticks() \n",
    "ax.set_yticklabels(labels, rotation=0)\n",
    "plt.show()"
   ]
  },
  {
   "cell_type": "code",
   "execution_count": 97,
   "metadata": {},
   "outputs": [
    {
     "name": "stdout",
     "output_type": "stream",
     "text": [
      "The beer-review dataset contains 104 unique types of beer\n",
      "\n",
      "Here are 5 most-reviewed types of beer: \n"
     ]
    },
    {
     "data": {
      "text/html": [
       "<div>\n",
       "<style scoped>\n",
       "    .dataframe tbody tr th:only-of-type {\n",
       "        vertical-align: middle;\n",
       "    }\n",
       "\n",
       "    .dataframe tbody tr th {\n",
       "        vertical-align: top;\n",
       "    }\n",
       "\n",
       "    .dataframe thead th {\n",
       "        text-align: right;\n",
       "    }\n",
       "</style>\n",
       "<table border=\"1\" class=\"dataframe\">\n",
       "  <thead>\n",
       "    <tr style=\"text-align: right;\">\n",
       "      <th></th>\n",
       "      <th>NUMBER OF REVIEWS</th>\n",
       "    </tr>\n",
       "  </thead>\n",
       "  <tbody>\n",
       "    <tr>\n",
       "      <th>American IPA</th>\n",
       "      <td>14965</td>\n",
       "    </tr>\n",
       "    <tr>\n",
       "      <th>American Double / Imperial IPA</th>\n",
       "      <td>11303</td>\n",
       "    </tr>\n",
       "    <tr>\n",
       "      <th>American Pale Ale (APA)</th>\n",
       "      <td>7642</td>\n",
       "    </tr>\n",
       "    <tr>\n",
       "      <th>Russian Imperial Stout</th>\n",
       "      <td>7067</td>\n",
       "    </tr>\n",
       "    <tr>\n",
       "      <th>American Double / Imperial Stout</th>\n",
       "      <td>6672</td>\n",
       "    </tr>\n",
       "    <tr>\n",
       "      <th>American Porter</th>\n",
       "      <td>6120</td>\n",
       "    </tr>\n",
       "    <tr>\n",
       "      <th>American Amber / Red Ale</th>\n",
       "      <td>5507</td>\n",
       "    </tr>\n",
       "    <tr>\n",
       "      <th>Belgian Strong Dark Ale</th>\n",
       "      <td>5037</td>\n",
       "    </tr>\n",
       "    <tr>\n",
       "      <th>American Strong Ale</th>\n",
       "      <td>4165</td>\n",
       "    </tr>\n",
       "    <tr>\n",
       "      <th>Fruit / Vegetable Beer</th>\n",
       "      <td>4157</td>\n",
       "    </tr>\n",
       "  </tbody>\n",
       "</table>\n",
       "</div>"
      ],
      "text/plain": [
       "                                  NUMBER OF REVIEWS\n",
       "American IPA                                  14965\n",
       "American Double / Imperial IPA                11303\n",
       "American Pale Ale (APA)                        7642\n",
       "Russian Imperial Stout                         7067\n",
       "American Double / Imperial Stout               6672\n",
       "American Porter                                6120\n",
       "American Amber / Red Ale                       5507\n",
       "Belgian Strong Dark Ale                        5037\n",
       "American Strong Ale                            4165\n",
       "Fruit / Vegetable Beer                         4157"
      ]
     },
     "execution_count": 97,
     "metadata": {},
     "output_type": "execute_result"
    }
   ],
   "source": [
    "print(\"The beer-review dataset contains \" + str(len(beer_dat['beer/style'].unique())) + \" unique types of beer\\n\")\n",
    "print(\"Here are 5 most-reviewed types of beer: \")\n",
    "top_5_beer = beer_dat['beer/style'].value_counts().head(10).to_frame() \n",
    "top_5_beer.columns = ['NUMBER OF REVIEWS']\n",
    "top_5_beer"
   ]
  },
  {
   "cell_type": "code",
   "execution_count": 96,
   "metadata": {},
   "outputs": [
    {
     "data": {
      "text/plain": [
       "47649"
      ]
     },
     "execution_count": 96,
     "metadata": {},
     "output_type": "execute_result"
    }
   ],
   "source": [
    "sum(top_5_beer['NUMBER OF REVIEWS'])"
   ]
  },
  {
   "cell_type": "code",
   "execution_count": 39,
   "metadata": {},
   "outputs": [],
   "source": [
    "to_contain = 'American Double / Imperial Stout|American IPA|American Double / Imperial IPA|American Pale Ale \\(APA\\)|American Porter'\n",
    "df_top_5 = beer_dat[beer_dat['beer/style'].str.contains(to_contain , na=False)]"
   ]
  },
  {
   "cell_type": "code",
   "execution_count": 41,
   "metadata": {},
   "outputs": [],
   "source": [
    "df_top_5 = df_top_5.sort_values(by=['beer/style']) \n",
    "df_top_5 = df_top_5.reset_index() \n",
    "df_top_5.drop('index', axis=1, inplace=True)\n",
    "\n",
    "beer_styles = ['American Double / Imperial Stout', 'American IPA', 'American Double / Imperial IPA','American Pale Ale (APA)','American Porter']\n",
    "beer_ratings = [0,0,0,0,0]\n",
    "appearance_rating_dict = dict(zip(beer_styles,beer_ratings)) \n",
    "palate_rating_dict = dict(zip(beer_styles,beer_ratings)) \n",
    "aroma_rating_dict = dict(zip(beer_styles,beer_ratings)) \n",
    "taste_rating_dict = dict(zip(beer_styles,beer_ratings)) \n",
    "overall_rating_dict = dict(zip(beer_styles,beer_ratings))\n",
    "\n",
    "for style in beer_styles:\n",
    "    appearance_rating_dict[style] = round(df_top_5[df_top_5['beer/style'] == style]['Appearance'].mean(),2) \n",
    "    palate_rating_dict[style] = round(df_top_5[df_top_5['beer/style']== style]['Palate'].mean(),2)\n",
    "    aroma_rating_dict[style] = round(df_top_5[df_top_5['beer/style'] == style]['Aroma'].mean(),2)\n",
    "    taste_rating_dict[style] = round(df_top_5[df_top_5['beer/style'] == style]['Taste'].mean(),2)\n",
    "    overall_rating_dict[style] = round(df_top_5[df_top_5['beer/style']== style]['Overall'].mean(),2)\n",
    "    \n",
    "appearance_rating_df = pd.Series(appearance_rating_dict).to_frame() \n",
    "palate_rating_df = pd.Series(palate_rating_dict).to_frame() \n",
    "aroma_rating_df = pd.Series(aroma_rating_dict).to_frame() \n",
    "taste_rating_df = pd.Series(taste_rating_dict).to_frame() \n",
    "overall_rating_df = pd.Series(overall_rating_dict).to_frame()"
   ]
  },
  {
   "cell_type": "code",
   "execution_count": 42,
   "metadata": {},
   "outputs": [
    {
     "name": "stdout",
     "output_type": "stream",
     "text": [
      "\n",
      "An Overview of the Ratings for the 5 Most-reviewed Beer Types \n"
     ]
    },
    {
     "data": {
      "text/html": [
       "<div>\n",
       "<style scoped>\n",
       "    .dataframe tbody tr th:only-of-type {\n",
       "        vertical-align: middle;\n",
       "    }\n",
       "\n",
       "    .dataframe tbody tr th {\n",
       "        vertical-align: top;\n",
       "    }\n",
       "\n",
       "    .dataframe thead th {\n",
       "        text-align: right;\n",
       "    }\n",
       "</style>\n",
       "<table border=\"1\" class=\"dataframe\">\n",
       "  <thead>\n",
       "    <tr style=\"text-align: right;\">\n",
       "      <th></th>\n",
       "      <th>Appearance Rating</th>\n",
       "      <th>Palate Rating</th>\n",
       "      <th>Aroma Rating</th>\n",
       "      <th>Taste Rating</th>\n",
       "      <th>Overall Rating</th>\n",
       "    </tr>\n",
       "  </thead>\n",
       "  <tbody>\n",
       "    <tr>\n",
       "      <th>American Double / Imperial Stout</th>\n",
       "      <td>4.16</td>\n",
       "      <td>4.11</td>\n",
       "      <td>4.16</td>\n",
       "      <td>4.19</td>\n",
       "      <td>4.03</td>\n",
       "    </tr>\n",
       "    <tr>\n",
       "      <th>American IPA</th>\n",
       "      <td>3.98</td>\n",
       "      <td>3.87</td>\n",
       "      <td>3.90</td>\n",
       "      <td>3.93</td>\n",
       "      <td>3.97</td>\n",
       "    </tr>\n",
       "    <tr>\n",
       "      <th>American Double / Imperial IPA</th>\n",
       "      <td>4.08</td>\n",
       "      <td>4.03</td>\n",
       "      <td>4.11</td>\n",
       "      <td>4.10</td>\n",
       "      <td>3.99</td>\n",
       "    </tr>\n",
       "    <tr>\n",
       "      <th>American Pale Ale (APA)</th>\n",
       "      <td>3.79</td>\n",
       "      <td>3.70</td>\n",
       "      <td>3.68</td>\n",
       "      <td>3.74</td>\n",
       "      <td>3.86</td>\n",
       "    </tr>\n",
       "    <tr>\n",
       "      <th>American Porter</th>\n",
       "      <td>3.95</td>\n",
       "      <td>3.80</td>\n",
       "      <td>3.84</td>\n",
       "      <td>3.91</td>\n",
       "      <td>3.91</td>\n",
       "    </tr>\n",
       "  </tbody>\n",
       "</table>\n",
       "</div>"
      ],
      "text/plain": [
       "                                  Appearance Rating  Palate Rating  \\\n",
       "American Double / Imperial Stout               4.16           4.11   \n",
       "American IPA                                   3.98           3.87   \n",
       "American Double / Imperial IPA                 4.08           4.03   \n",
       "American Pale Ale (APA)                        3.79           3.70   \n",
       "American Porter                                3.95           3.80   \n",
       "\n",
       "                                  Aroma Rating  Taste Rating  Overall Rating  \n",
       "American Double / Imperial Stout          4.16          4.19            4.03  \n",
       "American IPA                              3.90          3.93            3.97  \n",
       "American Double / Imperial IPA            4.11          4.10            3.99  \n",
       "American Pale Ale (APA)                   3.68          3.74            3.86  \n",
       "American Porter                           3.84          3.91            3.91  "
      ]
     },
     "execution_count": 42,
     "metadata": {},
     "output_type": "execute_result"
    }
   ],
   "source": [
    "appearance_rating_df.columns = ['Appearance Rating'] \n",
    "palate_rating_df.columns = ['Palate Rating'] \n",
    "aroma_rating_df.columns = ['Aroma Rating'] \n",
    "taste_rating_df.columns = ['Taste Rating'] \n",
    "overall_rating_df.columns = ['Overall Rating']\n",
    "\n",
    "ratings_df = pd.concat([appearance_rating_df, palate_rating_df], axis= 1, join='inner')\n",
    "ratings_df = pd.concat([ratings_df, aroma_rating_df], axis=1, join='inner')\n",
    "ratings_df = pd.concat([ratings_df, taste_rating_df], axis=1, join='inner')\n",
    "ratings_df = pd.concat([ratings_df, overall_rating_df], axis=1, join='inner')\n",
    "\n",
    "print(\"\\nAn Overview of the Ratings for the 5 Most-reviewed Beer Types \")\n",
    "#The dataframe that contains all the individual ratings ratings_df ## THIS CONTAINS THE AVERAGE RATINGS\n",
    "\n",
    "ratings_df"
   ]
  },
  {
   "cell_type": "code",
   "execution_count": 43,
   "metadata": {},
   "outputs": [
    {
     "data": {
      "image/png": "[encoded data removed]",
      "text/plain": [
       "<Figure size 864x576 with 1 Axes>"
      ]
     },
     "metadata": {
      "needs_background": "light"
     },
     "output_type": "display_data"
    }
   ],
   "source": [
    "ratings_df.plot.bar(title = 'Overview of the Ratings for the 5 Most-re viewed Beer Types',figsize= (12,8))\n",
    "labels = [3.5, 4.0, 4.5, 5.0]\n",
    "plt.yticks(labels)\n",
    "plt.ylim(3.5,5) \n",
    "plt.xticks(rotation = 35) \n",
    "plt.xlabel(\"Beer Type\") \n",
    "plt.ylabel(\"Rating\") \n",
    "plt.show()"
   ]
  },
  {
   "cell_type": "markdown",
   "metadata": {},
   "source": [
    "## Observation:\n",
    "From the bar chart above, we can see that \"American Double/Imperial Stout\" is the beer type that receives the highest review in all categories (appearance, palate, aroma, taste and overall)"
   ]
  },
  {
   "cell_type": "code",
   "execution_count": 63,
   "metadata": {},
   "outputs": [
    {
     "data": {
      "image/png": "[encoded data removed]",
      "text/plain": [
       "<Figure size 720x576 with 1 Axes>"
      ]
     },
     "metadata": {
      "needs_background": "light"
     },
     "output_type": "display_data"
    }
   ],
   "source": [
    "beer_dat['Overall'].value_counts().sort_index().plot('bar',title = 'Overall Rating Distribution',figsize= (10,8), color='#1f77b4')\n",
    "plt.xticks(rotation = 0)\n",
    "plt.xlabel(\"Overall Rating\")\n",
    "plt.ylabel(\"Count\") \n",
    "plt.show()"
   ]
  },
  {
   "cell_type": "code",
   "execution_count": 75,
   "metadata": {},
   "outputs": [],
   "source": [
    "sortedlist = beer_dat['Overall'].value_counts().sort_index(ascending=False)"
   ]
  },
  {
   "cell_type": "code",
   "execution_count": 94,
   "metadata": {},
   "outputs": [
    {
     "name": "stdout",
     "output_type": "stream",
     "text": [
      "5.0    11615\n",
      "4.5    41555\n",
      "4.0    74095\n",
      "3.5    37686\n",
      "3.0    20312\n",
      "2.5     7173\n",
      "2.0     4636\n",
      "1.5     1564\n",
      "1.0     1362\n",
      "0.0        2\n",
      "Name: Overall, dtype: int64\n",
      "[11615, 41555, 74095, 37686, 20312, 7173, 4636, 1564, 1362, 2]\n",
      "127265\n"
     ]
    },
    {
     "data": {
      "text/html": [
       "<div>\n",
       "<style scoped>\n",
       "    .dataframe tbody tr th:only-of-type {\n",
       "        vertical-align: middle;\n",
       "    }\n",
       "\n",
       "    .dataframe tbody tr th {\n",
       "        vertical-align: top;\n",
       "    }\n",
       "\n",
       "    .dataframe thead th {\n",
       "        text-align: right;\n",
       "    }\n",
       "</style>\n",
       "<table border=\"1\" class=\"dataframe\">\n",
       "  <thead>\n",
       "    <tr style=\"text-align: right;\">\n",
       "      <th></th>\n",
       "      <th>Overall</th>\n",
       "    </tr>\n",
       "  </thead>\n",
       "  <tbody>\n",
       "    <tr>\n",
       "      <th>5.0</th>\n",
       "      <td>11615</td>\n",
       "    </tr>\n",
       "    <tr>\n",
       "      <th>4.5</th>\n",
       "      <td>41555</td>\n",
       "    </tr>\n",
       "    <tr>\n",
       "      <th>4.0</th>\n",
       "      <td>74095</td>\n",
       "    </tr>\n",
       "    <tr>\n",
       "      <th>3.5</th>\n",
       "      <td>37686</td>\n",
       "    </tr>\n",
       "    <tr>\n",
       "      <th>3.0</th>\n",
       "      <td>20312</td>\n",
       "    </tr>\n",
       "    <tr>\n",
       "      <th>2.5</th>\n",
       "      <td>7173</td>\n",
       "    </tr>\n",
       "    <tr>\n",
       "      <th>2.0</th>\n",
       "      <td>4636</td>\n",
       "    </tr>\n",
       "    <tr>\n",
       "      <th>1.5</th>\n",
       "      <td>1564</td>\n",
       "    </tr>\n",
       "    <tr>\n",
       "      <th>1.0</th>\n",
       "      <td>1362</td>\n",
       "    </tr>\n",
       "    <tr>\n",
       "      <th>0.0</th>\n",
       "      <td>2</td>\n",
       "    </tr>\n",
       "  </tbody>\n",
       "</table>\n",
       "</div>"
      ],
      "text/plain": [
       "     Overall\n",
       "5.0    11615\n",
       "4.5    41555\n",
       "4.0    74095\n",
       "3.5    37686\n",
       "3.0    20312\n",
       "2.5     7173\n",
       "2.0     4636\n",
       "1.5     1564\n",
       "1.0     1362\n",
       "0.0        2"
      ]
     },
     "execution_count": 94,
     "metadata": {},
     "output_type": "execute_result"
    }
   ],
   "source": [
    "print(sortedlist)\n",
    "print(sortedlist.tolist())\n",
    "print(sum(sortedlist.tolist()[:3]))\n",
    "ratingdist = pd.DataFrame(sortedlist)\n",
    "ratingdist"
   ]
  },
  {
   "cell_type": "code",
   "execution_count": null,
   "metadata": {},
   "outputs": [],
   "source": []
  },
  {
   "cell_type": "markdown",
   "metadata": {},
   "source": [
    "## Observation:\n",
    "From the bar chart above, we can see that people tend to give an overall rating of 4.0 for the 5 most-popular beer styles. This means that the most-reviewed beers also tend to receive a relatively high overall rating."
   ]
  },
  {
   "cell_type": "code",
   "execution_count": 48,
   "metadata": {},
   "outputs": [],
   "source": [
    "df_top_5 = df_top_5[['Appearance', 'Aroma', 'Palate', 'Taste', 'Overall']]\n",
    "data = df_top_5.sample(frac=1) ## random shuffle the dataframe ( not in place)"
   ]
  },
  {
   "cell_type": "code",
   "execution_count": 49,
   "metadata": {},
   "outputs": [
    {
     "data": {
      "image/png": "[encoded data removed]",
      "text/plain": [
       "<Figure size 432x288 with 2 Axes>"
      ]
     },
     "metadata": {
      "needs_background": "light"
     },
     "output_type": "display_data"
    }
   ],
   "source": [
    "#Using Pearson Correlation plt.figure(figsize=(10,10))\n",
    "cor = data.corr()\n",
    "ax = sns.heatmap(cor, annot=True, cmap=plt.cm.Reds) \n",
    "ax.xaxis.set_ticks_position('top')\n",
    "loc, labels = plt.yticks() \n",
    "ax.set_yticklabels(labels, rotation=0)\n",
    "plt.show()"
   ]
  },
  {
   "cell_type": "markdown",
   "metadata": {},
   "source": [
    "## OBSERVATION:\n",
    "Based on the correlation matrix above, we can see that taste correlates the most (corr = 0.72) with the overall beer rating, meaning that taste is the most important feature of a beer."
   ]
  },
  {
   "cell_type": "markdown",
   "metadata": {},
   "source": [
    "## Part 2: Predictive Task\n",
    "\n",
    "### Predicting Overall Beer Rating from Taste, Appearance, Aroma and Palate Ratings\n",
    "\n",
    "- Data is split into train and test set (80:20 ratio)\n",
    "\n",
    "- Using the ratings for the four features (taste, appearance, aroma and palate), we will use first use linear regression to predict the overall rating for each beer style. This will serve as the baseline predictor that we will improve upon"
   ]
  },
  {
   "cell_type": "code",
   "execution_count": 52,
   "metadata": {},
   "outputs": [
    {
     "name": "stdout",
     "output_type": "stream",
     "text": [
      "100000 50000 50000\n"
     ]
    }
   ],
   "source": [
    "#beer_dat = shuffle(beer_dat)\n",
    "\n",
    "#train-test split\n",
    "train_size = int(len(beer_dat)*float(0.5))\n",
    "valid_size = int(len(beer_dat)*float(0.25))\n",
    "test_size = int(len(beer_dat)*float(0.25))\n",
    "                 \n",
    "trainX = beer_dat[:train_size]\n",
    "trainY = beer_dat['Overall'][:train_size] \n",
    "\n",
    "validX = beer_dat[train_size:train_size + valid_size]\n",
    "validY = beer_dat['Overall'][train_size:train_size + valid_size]\n",
    "\n",
    "testX = beer_dat[(train_size + valid_size):(train_size + valid_size + test_size)] \n",
    "testY = beer_dat['Overall'][(train_size + valid_size):(train_size + valid_size + test_size)]         \n",
    "\n",
    "print(len(trainX), len(validX), len(testX))"
   ]
  },
  {
   "cell_type": "code",
   "execution_count": 53,
   "metadata": {},
   "outputs": [],
   "source": [
    "tfidf_vectorizer=TfidfVectorizer(use_idf=True, max_features=3000, stop_words=stopwords.words('english'))\n",
    "\n",
    "# compute tfidf with training set and get values for training set\n",
    "fitted_vectorizer=tfidf_vectorizer.fit(trainX['review/text'].tolist())\n",
    "tfidf_vectorizer_train=fitted_vectorizer.transform(trainX['review/text'].tolist())\n",
    "\n",
    "# values for validation set\n",
    "tfidf_vectorizer_valid=fitted_vectorizer.transform(validX['review/text'].tolist())"
   ]
  },
  {
   "cell_type": "code",
   "execution_count": 57,
   "metadata": {},
   "outputs": [],
   "source": [
    "# Create dictionary of top five beers to use for one hot encoding\n",
    "topfive = trainX['beer/style'].value_counts().index[:5]\n",
    "fivedict = dict(zip(topfive, [0, 1, 2, 3, 4]))\n",
    "\n",
    "def pick_feature(datum): \n",
    "    feat=[1]\n",
    "    feat.append( datum['Taste']) \n",
    "    feat.append( datum['Palate']) \n",
    "    feat.append( datum['Aroma']) \n",
    "    feat.append( datum['Appearance'])\n",
    "    \n",
    "    \n",
    "    # one hot encoding for top 5 beer styles\n",
    "    empty = [0, 0, 0, 0, 0]\n",
    "    style = datum['beer/style']\n",
    "    if (style in topfive):\n",
    "        empty[fivedict[style]] = 1\n",
    "        \n",
    "    feat.extend(empty)\n",
    "    \n",
    "    return feat"
   ]
  },
  {
   "cell_type": "code",
   "execution_count": 58,
   "metadata": {},
   "outputs": [],
   "source": [
    "# Create training feature matrix\n",
    "train_feat = []\n",
    "for index, row in trainX.iterrows():\n",
    "    train_feat.append(pick_feature(row))\n",
    "    \n",
    "# Create valid feature matrix\n",
    "valid_feat = []\n",
    "for index, row in validX.iterrows():\n",
    "    valid_feat.append(pick_feature(row))"
   ]
  },
  {
   "cell_type": "code",
   "execution_count": 59,
   "metadata": {},
   "outputs": [],
   "source": [
    "traincomp = csr_matrix(train_feat)\n",
    "validcomp = csr_matrix(valid_feat)"
   ]
  },
  {
   "cell_type": "code",
   "execution_count": 60,
   "metadata": {},
   "outputs": [],
   "source": [
    "finaltrain = sp.hstack((traincomp, tfidf_vectorizer_train))\n",
    "finalvalid = sp.hstack((validcomp, tfidf_vectorizer_valid))"
   ]
  },
  {
   "cell_type": "code",
   "execution_count": 61,
   "metadata": {},
   "outputs": [
    {
     "name": "stdout",
     "output_type": "stream",
     "text": [
      "0.6976073400154886\n",
      "0.15385862493787195\n",
      "0.2967854134099274\n",
      "\n",
      "\n",
      "0.6835126321501688\n",
      "0.1644505126203885\n",
      "0.3069369996017707\n"
     ]
    }
   ],
   "source": [
    "model = LinearRegression()\n",
    "model.fit(finaltrain, trainY)\n",
    "\n",
    "\n",
    "train_pred = model.predict(finaltrain)\n",
    "#Returns the coefficient of determination R^2 of the prediction.\n",
    "print(model.score(finaltrain, trainY))\n",
    "# Print MSE and MAE to compare\n",
    "print(mean_squared_error(trainY, train_pred))\n",
    "print(mean_absolute_error(trainY, train_pred))\n",
    "\n",
    "print('\\n')\n",
    "\n",
    "\n",
    "valid_pred = model.predict(finalvalid)\n",
    "#Returns the coefficient of determination R^2 of the prediction.\n",
    "print(model.score(finalvalid, validY))\n",
    "# Print MSE and MAE to compare\n",
    "print(mean_squared_error(validY, valid_pred))\n",
    "print(mean_absolute_error(validY, valid_pred))"
   ]
  },
  {
   "cell_type": "code",
   "execution_count": null,
   "metadata": {},
   "outputs": [],
   "source": []
  },
  {
   "cell_type": "markdown",
   "metadata": {},
   "source": [
    "r2, mse, mae using all four scores and one hot top five beers\n",
    "<br>\n",
    "0.6615898250522957\n",
    "<br>\n",
    "0.17583554419062639\n",
    "<br>\n",
    "0.3127927941938682\n",
    "<br>\n",
    "\n",
    "0.6583456872393458\n",
    "<br>\n",
    "0.1791718975746533\n",
    "<br>\n",
    "0.31451956772621104"
   ]
  },
  {
   "cell_type": "markdown",
   "metadata": {},
   "source": [
    "r2, mse, mae using all four scores and one hot of top five and tfidf, 3000 max feat\n",
    "<br>\n",
    "0.7041355990322207\n",
    "<br>\n",
    "0.1534369609523251\n",
    "<br>\n",
    "0.2966299324444182\n",
    "<br>\n",
    "\n",
    "0.688296119645765\n",
    "<br>\n",
    "0.1646032266072723\n",
    "<br>\n",
    "0.3072544148057153\n",
    "<br>"
   ]
  },
  {
   "cell_type": "code",
   "execution_count": null,
   "metadata": {},
   "outputs": [],
   "source": []
  },
  {
   "cell_type": "code",
   "execution_count": null,
   "metadata": {},
   "outputs": [],
   "source": [
    "#after predicting the overall beer rating, decide a threshold to calculate accuracy of beer prediction\n",
    "# ?!!!!!!!!\n",
    "# smaller than THRESHOLD === accurate prediction\n",
    "# for now, set threshold to be 0.4, given ratings range from 0 - 5\n",
    "\n",
    "threshold = 0.4\n",
    "diff = abs(testY - valid_pred)\n",
    "sum(diff <= threshold)/len(diff)"
   ]
  },
  {
   "cell_type": "code",
   "execution_count": null,
   "metadata": {},
   "outputs": [],
   "source": [
    "diff"
   ]
  },
  {
   "cell_type": "code",
   "execution_count": null,
   "metadata": {},
   "outputs": [],
   "source": []
  }
 ],
 "metadata": {
  "kernelspec": {
   "display_name": "Python 3",
   "language": "python",
   "name": "python3"
  },
  "language_info": {
   "codemirror_mode": {
    "name": "ipython",
    "version": 3
   },
   "file_extension": ".py",
   "mimetype": "text/x-python",
   "name": "python",
   "nbconvert_exporter": "python",
   "pygments_lexer": "ipython3",
   "version": "3.7.1"
  }
 },
 "nbformat": 4,
 "nbformat_minor": 2
}
