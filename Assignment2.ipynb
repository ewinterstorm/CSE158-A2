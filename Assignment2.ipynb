{
 "cells": [
  {
   "cell_type": "markdown",
   "metadata": {},
   "source": [
    "Toan Bui A13599266\n",
    "<br>\n",
    "Kaylyn Han\n",
    "<br>\n",
    "Elise Wong A13026941"
   ]
  },
  {
   "cell_type": "code",
   "execution_count": 36,
   "metadata": {},
   "outputs": [],
   "source": [
    "import gzip\n",
    "import pandas as pd\n",
    "import matplotlib.pyplot as plt\n",
    "import math\n",
    "import seaborn as sns\n",
    "\n",
    "from sklearn.linear_model import LinearRegression\n",
    "from sklearn.metrics import mean_squared_error\n",
    "from sklearn.metrics import mean_absolute_error\n",
    "\n",
    "from numpy import cov\n",
    "from sklearn.utils import shuffle\n",
    "import numpy as nps\n",
    "\n",
    "from sklearn.feature_extraction.text import TfidfVectorizer\n",
    "from scipy.sparse import csr_matrix\n",
    "import scipy.sparse as sp\n",
    "from sklearn.pipeline import FeatureUnion"
   ]
  },
  {
   "cell_type": "code",
   "execution_count": 2,
   "metadata": {},
   "outputs": [],
   "source": [
    "data = {}\n",
    "unzipped = gzip.open('Beeradvocate.txt.gz', 'rb')\n",
    "\n",
    "ind = 0\n",
    "currdat = {}\n",
    "with unzipped as f:\n",
    "    for line in f:\n",
    "        clean = line.decode('utf-8')\n",
    "        clean = clean.replace('\\t', '')\n",
    "        splitted = clean.replace('\\n', '').split(':')\n",
    "\n",
    "        if (len(splitted) == 1):\n",
    "            data[f\"{ind}\"] = currdat\n",
    "            currdat = {}\n",
    "            ind = ind + 1\n",
    "        \n",
    "        else:\n",
    "            currdat[f\"{splitted[0]}\"] = splitted[1].strip()\n",
    "\n",
    "df= pd.DataFrame(data).transpose()"
   ]
  },
  {
   "cell_type": "code",
   "execution_count": 3,
   "metadata": {},
   "outputs": [
    {
     "data": {
      "text/html": [
       "<div>\n",
       "<style scoped>\n",
       "    .dataframe tbody tr th:only-of-type {\n",
       "        vertical-align: middle;\n",
       "    }\n",
       "\n",
       "    .dataframe tbody tr th {\n",
       "        vertical-align: top;\n",
       "    }\n",
       "\n",
       "    .dataframe thead th {\n",
       "        text-align: right;\n",
       "    }\n",
       "</style>\n",
       "<table border=\"1\" class=\"dataframe\">\n",
       "  <thead>\n",
       "    <tr style=\"text-align: right;\">\n",
       "      <th></th>\n",
       "      <th>beer/ABV</th>\n",
       "      <th>beer/beerId</th>\n",
       "      <th>beer/brewerId</th>\n",
       "      <th>beer/name</th>\n",
       "      <th>beer/style</th>\n",
       "      <th>review/appearance</th>\n",
       "      <th>review/aroma</th>\n",
       "      <th>review/overall</th>\n",
       "      <th>review/palate</th>\n",
       "      <th>review/profileName</th>\n",
       "      <th>review/taste</th>\n",
       "      <th>review/text</th>\n",
       "      <th>review/time</th>\n",
       "    </tr>\n",
       "  </thead>\n",
       "  <tbody>\n",
       "    <tr>\n",
       "      <th>0</th>\n",
       "      <td>5.00</td>\n",
       "      <td>47986</td>\n",
       "      <td>10325</td>\n",
       "      <td>Sausa Weizen</td>\n",
       "      <td>Hefeweizen</td>\n",
       "      <td>2.5</td>\n",
       "      <td>2</td>\n",
       "      <td>1.5</td>\n",
       "      <td>1.5</td>\n",
       "      <td>stcules</td>\n",
       "      <td>1.5</td>\n",
       "      <td>A lot of foam. But a lot.In the smell some ban...</td>\n",
       "      <td>1234817823</td>\n",
       "    </tr>\n",
       "    <tr>\n",
       "      <th>1</th>\n",
       "      <td>6.20</td>\n",
       "      <td>48213</td>\n",
       "      <td>10325</td>\n",
       "      <td>Red Moon</td>\n",
       "      <td>English Strong Ale</td>\n",
       "      <td>3</td>\n",
       "      <td>2.5</td>\n",
       "      <td>3</td>\n",
       "      <td>3</td>\n",
       "      <td>stcules</td>\n",
       "      <td>3</td>\n",
       "      <td>Dark red color, light beige foam, average.In t...</td>\n",
       "      <td>1235915097</td>\n",
       "    </tr>\n",
       "    <tr>\n",
       "      <th>2</th>\n",
       "      <td>6.50</td>\n",
       "      <td>48215</td>\n",
       "      <td>10325</td>\n",
       "      <td>Black Horse Black Beer</td>\n",
       "      <td>Foreign / Export Stout</td>\n",
       "      <td>3</td>\n",
       "      <td>2.5</td>\n",
       "      <td>3</td>\n",
       "      <td>3</td>\n",
       "      <td>stcules</td>\n",
       "      <td>3</td>\n",
       "      <td>Almost totally black. Beige foam, quite compac...</td>\n",
       "      <td>1235916604</td>\n",
       "    </tr>\n",
       "    <tr>\n",
       "      <th>3</th>\n",
       "      <td>5.00</td>\n",
       "      <td>47969</td>\n",
       "      <td>10325</td>\n",
       "      <td>Sausa Pils</td>\n",
       "      <td>German Pilsener</td>\n",
       "      <td>3.5</td>\n",
       "      <td>3</td>\n",
       "      <td>3</td>\n",
       "      <td>2.5</td>\n",
       "      <td>stcules</td>\n",
       "      <td>3</td>\n",
       "      <td>Golden yellow color. White, compact foam, quit...</td>\n",
       "      <td>1234725145</td>\n",
       "    </tr>\n",
       "    <tr>\n",
       "      <th>4</th>\n",
       "      <td>7.70</td>\n",
       "      <td>64883</td>\n",
       "      <td>1075</td>\n",
       "      <td>Cauldron DIPA</td>\n",
       "      <td>American Double / Imperial IPA</td>\n",
       "      <td>4</td>\n",
       "      <td>4.5</td>\n",
       "      <td>4</td>\n",
       "      <td>4</td>\n",
       "      <td>johnmichaelsen</td>\n",
       "      <td>4.5</td>\n",
       "      <td>According to the website, the style for the Ca...</td>\n",
       "      <td>1293735206</td>\n",
       "    </tr>\n",
       "  </tbody>\n",
       "</table>\n",
       "</div>"
      ],
      "text/plain": [
       "  beer/ABV beer/beerId beer/brewerId               beer/name  \\\n",
       "0     5.00       47986         10325            Sausa Weizen   \n",
       "1     6.20       48213         10325                Red Moon   \n",
       "2     6.50       48215         10325  Black Horse Black Beer   \n",
       "3     5.00       47969         10325              Sausa Pils   \n",
       "4     7.70       64883          1075           Cauldron DIPA   \n",
       "\n",
       "                       beer/style review/appearance review/aroma  \\\n",
       "0                      Hefeweizen               2.5            2   \n",
       "1              English Strong Ale                 3          2.5   \n",
       "2          Foreign / Export Stout                 3          2.5   \n",
       "3                 German Pilsener               3.5            3   \n",
       "4  American Double / Imperial IPA                 4          4.5   \n",
       "\n",
       "  review/overall review/palate review/profileName review/taste  \\\n",
       "0            1.5           1.5            stcules          1.5   \n",
       "1              3             3            stcules            3   \n",
       "2              3             3            stcules            3   \n",
       "3              3           2.5            stcules            3   \n",
       "4              4             4     johnmichaelsen          4.5   \n",
       "\n",
       "                                         review/text review/time  \n",
       "0  A lot of foam. But a lot.In the smell some ban...  1234817823  \n",
       "1  Dark red color, light beige foam, average.In t...  1235915097  \n",
       "2  Almost totally black. Beige foam, quite compac...  1235916604  \n",
       "3  Golden yellow color. White, compact foam, quit...  1234725145  \n",
       "4  According to the website, the style for the Ca...  1293735206  "
      ]
     },
     "execution_count": 3,
     "metadata": {},
     "output_type": "execute_result"
    }
   ],
   "source": [
    "df.head()"
   ]
  },
  {
   "cell_type": "code",
   "execution_count": 5,
   "metadata": {},
   "outputs": [
    {
     "data": {
      "text/plain": [
       "(200000, 13)"
      ]
     },
     "execution_count": 5,
     "metadata": {},
     "output_type": "execute_result"
    }
   ],
   "source": [
    "# use only the first 200000 data points from the dataset\n",
    "df = shuffle(df)\n",
    "\n",
    "beer_dat = df.copy()[:200000]\n",
    "beer_dat.shape"
   ]
  },
  {
   "cell_type": "code",
   "execution_count": 6,
   "metadata": {},
   "outputs": [
    {
     "name": "stdout",
     "output_type": "stream",
     "text": [
      "104\n",
      "104\n"
     ]
    }
   ],
   "source": [
    "# check the number of unique styles of beer\n",
    "print(len(df['beer/style'].unique()))\n",
    "print(len(beer_dat['beer/style'].unique()))"
   ]
  },
  {
   "cell_type": "code",
   "execution_count": 7,
   "metadata": {},
   "outputs": [],
   "source": [
    "beer_dat['review/appearance'] = beer_dat['review/appearance'].apply(float)\n",
    "beer_dat['review/aroma'] = beer_dat['review/aroma'].apply(float)\n",
    "beer_dat['review/overall'] = beer_dat['review/overall'].apply(float)\n",
    "beer_dat['review/palate'] = beer_dat['review/palate'].apply(float)\n",
    "beer_dat['review/taste'] = beer_dat['review/taste'].apply(float)"
   ]
  },
  {
   "cell_type": "markdown",
   "metadata": {},
   "source": [
    "## Part 1: Exploratory Analysis on Beer Dataset"
   ]
  },
  {
   "cell_type": "code",
   "execution_count": 8,
   "metadata": {},
   "outputs": [
    {
     "data": {
      "text/html": [
       "<div>\n",
       "<style scoped>\n",
       "    .dataframe tbody tr th:only-of-type {\n",
       "        vertical-align: middle;\n",
       "    }\n",
       "\n",
       "    .dataframe tbody tr th {\n",
       "        vertical-align: top;\n",
       "    }\n",
       "\n",
       "    .dataframe thead th {\n",
       "        text-align: right;\n",
       "    }\n",
       "</style>\n",
       "<table border=\"1\" class=\"dataframe\">\n",
       "  <thead>\n",
       "    <tr style=\"text-align: right;\">\n",
       "      <th></th>\n",
       "      <th>beer/ABV</th>\n",
       "      <th>beer/beerId</th>\n",
       "      <th>beer/brewerId</th>\n",
       "      <th>beer/name</th>\n",
       "      <th>beer/style</th>\n",
       "      <th>review/appearance</th>\n",
       "      <th>review/aroma</th>\n",
       "      <th>review/overall</th>\n",
       "      <th>review/palate</th>\n",
       "      <th>review/profileName</th>\n",
       "      <th>review/taste</th>\n",
       "      <th>review/text</th>\n",
       "      <th>review/time</th>\n",
       "    </tr>\n",
       "  </thead>\n",
       "  <tbody>\n",
       "    <tr>\n",
       "      <th>1422772</th>\n",
       "      <td>4.80</td>\n",
       "      <td>13728</td>\n",
       "      <td>8469</td>\n",
       "      <td>Ciuc Premium</td>\n",
       "      <td>Czech Pilsener</td>\n",
       "      <td>3.0</td>\n",
       "      <td>2.0</td>\n",
       "      <td>3.0</td>\n",
       "      <td>2.0</td>\n",
       "      <td>drpimento</td>\n",
       "      <td>3.0</td>\n",
       "      <td>Poured from a can bought last night at a non-s...</td>\n",
       "      <td>1217096003</td>\n",
       "    </tr>\n",
       "    <tr>\n",
       "      <th>826830</th>\n",
       "      <td>13.50</td>\n",
       "      <td>18850</td>\n",
       "      <td>2097</td>\n",
       "      <td>Kuhnhenn Fourth Dementia (4D)</td>\n",
       "      <td>Old Ale</td>\n",
       "      <td>4.0</td>\n",
       "      <td>4.5</td>\n",
       "      <td>4.0</td>\n",
       "      <td>4.5</td>\n",
       "      <td>seaoflament</td>\n",
       "      <td>4.5</td>\n",
       "      <td>Thanks to tangfoot for sending me this beer in...</td>\n",
       "      <td>1210116598</td>\n",
       "    </tr>\n",
       "    <tr>\n",
       "      <th>488143</th>\n",
       "      <td>6.50</td>\n",
       "      <td>355</td>\n",
       "      <td>132</td>\n",
       "      <td>Dead Guy Ale</td>\n",
       "      <td>Maibock / Helles Bock</td>\n",
       "      <td>4.0</td>\n",
       "      <td>4.5</td>\n",
       "      <td>4.5</td>\n",
       "      <td>4.0</td>\n",
       "      <td>allboutbierge</td>\n",
       "      <td>4.5</td>\n",
       "      <td>Quite a treat here. Copper red color with a pa...</td>\n",
       "      <td>1052075083</td>\n",
       "    </tr>\n",
       "    <tr>\n",
       "      <th>791688</th>\n",
       "      <td>7.20</td>\n",
       "      <td>76248</td>\n",
       "      <td>18168</td>\n",
       "      <td>Shotgun Willy IPA</td>\n",
       "      <td>American IPA</td>\n",
       "      <td>4.0</td>\n",
       "      <td>4.5</td>\n",
       "      <td>4.5</td>\n",
       "      <td>4.0</td>\n",
       "      <td>Billolick</td>\n",
       "      <td>4.5</td>\n",
       "      <td>Enjoyed two fresh pints of this one on tap at ...</td>\n",
       "      <td>1323651021</td>\n",
       "    </tr>\n",
       "    <tr>\n",
       "      <th>813609</th>\n",
       "      <td>5.40</td>\n",
       "      <td>1522</td>\n",
       "      <td>99</td>\n",
       "      <td>Saranac Octoberfest</td>\n",
       "      <td>Märzen / Oktoberfest</td>\n",
       "      <td>4.0</td>\n",
       "      <td>3.0</td>\n",
       "      <td>2.5</td>\n",
       "      <td>3.0</td>\n",
       "      <td>necrat</td>\n",
       "      <td>3.0</td>\n",
       "      <td>Poured a lighter color than I've seen with oth...</td>\n",
       "      <td>1256324626</td>\n",
       "    </tr>\n",
       "  </tbody>\n",
       "</table>\n",
       "</div>"
      ],
      "text/plain": [
       "        beer/ABV beer/beerId beer/brewerId                      beer/name  \\\n",
       "1422772     4.80       13728          8469                   Ciuc Premium   \n",
       "826830     13.50       18850          2097  Kuhnhenn Fourth Dementia (4D)   \n",
       "488143      6.50         355           132                   Dead Guy Ale   \n",
       "791688      7.20       76248         18168              Shotgun Willy IPA   \n",
       "813609      5.40        1522            99            Saranac Octoberfest   \n",
       "\n",
       "                    beer/style  review/appearance  review/aroma  \\\n",
       "1422772         Czech Pilsener                3.0           2.0   \n",
       "826830                 Old Ale                4.0           4.5   \n",
       "488143   Maibock / Helles Bock                4.0           4.5   \n",
       "791688            American IPA                4.0           4.5   \n",
       "813609    Märzen / Oktoberfest                4.0           3.0   \n",
       "\n",
       "         review/overall  review/palate review/profileName  review/taste  \\\n",
       "1422772             3.0            2.0          drpimento           3.0   \n",
       "826830              4.0            4.5        seaoflament           4.5   \n",
       "488143              4.5            4.0      allboutbierge           4.5   \n",
       "791688              4.5            4.0          Billolick           4.5   \n",
       "813609              2.5            3.0             necrat           3.0   \n",
       "\n",
       "                                               review/text review/time  \n",
       "1422772  Poured from a can bought last night at a non-s...  1217096003  \n",
       "826830   Thanks to tangfoot for sending me this beer in...  1210116598  \n",
       "488143   Quite a treat here. Copper red color with a pa...  1052075083  \n",
       "791688   Enjoyed two fresh pints of this one on tap at ...  1323651021  \n",
       "813609   Poured a lighter color than I've seen with oth...  1256324626  "
      ]
     },
     "execution_count": 8,
     "metadata": {},
     "output_type": "execute_result"
    }
   ],
   "source": [
    "beer_dat[:5]"
   ]
  },
  {
   "cell_type": "code",
   "execution_count": 9,
   "metadata": {},
   "outputs": [
    {
     "name": "stdout",
     "output_type": "stream",
     "text": [
      "The beer-review dataset contains 104 unique types of beer\n",
      "\n",
      "Here are 5 most-reviewed types of beer: \n"
     ]
    },
    {
     "data": {
      "text/html": [
       "<div>\n",
       "<style scoped>\n",
       "    .dataframe tbody tr th:only-of-type {\n",
       "        vertical-align: middle;\n",
       "    }\n",
       "\n",
       "    .dataframe tbody tr th {\n",
       "        vertical-align: top;\n",
       "    }\n",
       "\n",
       "    .dataframe thead th {\n",
       "        text-align: right;\n",
       "    }\n",
       "</style>\n",
       "<table border=\"1\" class=\"dataframe\">\n",
       "  <thead>\n",
       "    <tr style=\"text-align: right;\">\n",
       "      <th></th>\n",
       "      <th>NUMBER OF REVIEWS</th>\n",
       "    </tr>\n",
       "  </thead>\n",
       "  <tbody>\n",
       "    <tr>\n",
       "      <th>American IPA</th>\n",
       "      <td>14818</td>\n",
       "    </tr>\n",
       "    <tr>\n",
       "      <th>American Double / Imperial IPA</th>\n",
       "      <td>10884</td>\n",
       "    </tr>\n",
       "    <tr>\n",
       "      <th>American Pale Ale (APA)</th>\n",
       "      <td>8087</td>\n",
       "    </tr>\n",
       "    <tr>\n",
       "      <th>Russian Imperial Stout</th>\n",
       "      <td>6944</td>\n",
       "    </tr>\n",
       "    <tr>\n",
       "      <th>American Porter</th>\n",
       "      <td>6329</td>\n",
       "    </tr>\n",
       "  </tbody>\n",
       "</table>\n",
       "</div>"
      ],
      "text/plain": [
       "                                NUMBER OF REVIEWS\n",
       "American IPA                                14818\n",
       "American Double / Imperial IPA              10884\n",
       "American Pale Ale (APA)                      8087\n",
       "Russian Imperial Stout                       6944\n",
       "American Porter                              6329"
      ]
     },
     "execution_count": 9,
     "metadata": {},
     "output_type": "execute_result"
    }
   ],
   "source": [
    "print(\"The beer-review dataset contains \" + str(len(beer_dat['beer/style'].unique())) + \" unique types of beer\\n\")\n",
    "print(\"Here are 5 most-reviewed types of beer: \")\n",
    "top_5_beer = beer_dat['beer/style'].value_counts().head(5).to_frame() \n",
    "top_5_beer.columns = ['NUMBER OF REVIEWS']\n",
    "top_5_beer"
   ]
  },
  {
   "cell_type": "code",
   "execution_count": 10,
   "metadata": {},
   "outputs": [],
   "source": [
    "to_contain = 'American Double / Imperial Stout|American IPA|American Double / Imperial IPA|American Pale Ale \\(APA\\)|American Porter'\n",
    "df_top_5 = beer_dat[beer_dat['beer/style'].str.contains(to_contain , na=False)]"
   ]
  },
  {
   "cell_type": "code",
   "execution_count": 11,
   "metadata": {},
   "outputs": [],
   "source": [
    "df_top_5 = df_top_5.sort_values(by=['beer/style']) \n",
    "df_top_5 = df_top_5.reset_index() \n",
    "df_top_5.drop('index', axis=1, inplace=True)\n",
    "\n",
    "beer_styles = ['American Double / Imperial Stout', 'American IPA', 'American Double / Imperial IPA','American Pale Ale (APA)','American Porter']\n",
    "beer_ratings = [0,0,0,0,0]\n",
    "appearance_rating_dict = dict(zip(beer_styles,beer_ratings)) \n",
    "palate_rating_dict = dict(zip(beer_styles,beer_ratings)) \n",
    "aroma_rating_dict = dict(zip(beer_styles,beer_ratings)) \n",
    "taste_rating_dict = dict(zip(beer_styles,beer_ratings)) \n",
    "overall_rating_dict = dict(zip(beer_styles,beer_ratings))\n",
    "\n",
    "for style in beer_styles:\n",
    "    appearance_rating_dict[style] = round(df_top_5[df_top_5['beer/style'] == style]['review/appearance'].mean(),2) \n",
    "    palate_rating_dict[style] = round(df_top_5[df_top_5['beer/style']== style]['review/palate'].mean(),2)\n",
    "    aroma_rating_dict[style] = round(df_top_5[df_top_5['beer/style'] == style]['review/aroma'].mean(),2)\n",
    "    taste_rating_dict[style] = round(df_top_5[df_top_5['beer/style'] == style]['review/taste'].mean(),2)\n",
    "    overall_rating_dict[style] = round(df_top_5[df_top_5['beer/style']== style]['review/overall'].mean(),2)\n",
    "    \n",
    "appearance_rating_df = pd.Series(appearance_rating_dict).to_frame() \n",
    "palate_rating_df = pd.Series(palate_rating_dict).to_frame() \n",
    "aroma_rating_df = pd.Series(aroma_rating_dict).to_frame() \n",
    "taste_rating_df = pd.Series(taste_rating_dict).to_frame() \n",
    "overall_rating_df = pd.Series(overall_rating_dict).to_frame()"
   ]
  },
  {
   "cell_type": "code",
   "execution_count": 12,
   "metadata": {},
   "outputs": [
    {
     "name": "stdout",
     "output_type": "stream",
     "text": [
      "\n",
      "An Overview of the Ratings for the 5 Most-reviewed Beer Types \n"
     ]
    },
    {
     "data": {
      "text/html": [
       "<div>\n",
       "<style scoped>\n",
       "    .dataframe tbody tr th:only-of-type {\n",
       "        vertical-align: middle;\n",
       "    }\n",
       "\n",
       "    .dataframe tbody tr th {\n",
       "        vertical-align: top;\n",
       "    }\n",
       "\n",
       "    .dataframe thead th {\n",
       "        text-align: right;\n",
       "    }\n",
       "</style>\n",
       "<table border=\"1\" class=\"dataframe\">\n",
       "  <thead>\n",
       "    <tr style=\"text-align: right;\">\n",
       "      <th></th>\n",
       "      <th>Appearance Rating</th>\n",
       "      <th>Palate Rating</th>\n",
       "      <th>Aroma Rating</th>\n",
       "      <th>Taste Rating</th>\n",
       "      <th>Overall Rating</th>\n",
       "    </tr>\n",
       "  </thead>\n",
       "  <tbody>\n",
       "    <tr>\n",
       "      <th>American Double / Imperial Stout</th>\n",
       "      <td>4.16</td>\n",
       "      <td>4.10</td>\n",
       "      <td>4.16</td>\n",
       "      <td>4.18</td>\n",
       "      <td>4.04</td>\n",
       "    </tr>\n",
       "    <tr>\n",
       "      <th>American IPA</th>\n",
       "      <td>3.98</td>\n",
       "      <td>3.88</td>\n",
       "      <td>3.90</td>\n",
       "      <td>3.93</td>\n",
       "      <td>3.97</td>\n",
       "    </tr>\n",
       "    <tr>\n",
       "      <th>American Double / Imperial IPA</th>\n",
       "      <td>4.08</td>\n",
       "      <td>4.02</td>\n",
       "      <td>4.09</td>\n",
       "      <td>4.08</td>\n",
       "      <td>3.99</td>\n",
       "    </tr>\n",
       "    <tr>\n",
       "      <th>American Pale Ale (APA)</th>\n",
       "      <td>3.78</td>\n",
       "      <td>3.69</td>\n",
       "      <td>3.66</td>\n",
       "      <td>3.73</td>\n",
       "      <td>3.86</td>\n",
       "    </tr>\n",
       "    <tr>\n",
       "      <th>American Porter</th>\n",
       "      <td>3.95</td>\n",
       "      <td>3.79</td>\n",
       "      <td>3.84</td>\n",
       "      <td>3.90</td>\n",
       "      <td>3.90</td>\n",
       "    </tr>\n",
       "  </tbody>\n",
       "</table>\n",
       "</div>"
      ],
      "text/plain": [
       "                                  Appearance Rating  Palate Rating  \\\n",
       "American Double / Imperial Stout               4.16           4.10   \n",
       "American IPA                                   3.98           3.88   \n",
       "American Double / Imperial IPA                 4.08           4.02   \n",
       "American Pale Ale (APA)                        3.78           3.69   \n",
       "American Porter                                3.95           3.79   \n",
       "\n",
       "                                  Aroma Rating  Taste Rating  Overall Rating  \n",
       "American Double / Imperial Stout          4.16          4.18            4.04  \n",
       "American IPA                              3.90          3.93            3.97  \n",
       "American Double / Imperial IPA            4.09          4.08            3.99  \n",
       "American Pale Ale (APA)                   3.66          3.73            3.86  \n",
       "American Porter                           3.84          3.90            3.90  "
      ]
     },
     "execution_count": 12,
     "metadata": {},
     "output_type": "execute_result"
    }
   ],
   "source": [
    "appearance_rating_df.columns = ['Appearance Rating'] \n",
    "palate_rating_df.columns = ['Palate Rating'] \n",
    "aroma_rating_df.columns = ['Aroma Rating'] \n",
    "taste_rating_df.columns = ['Taste Rating'] \n",
    "overall_rating_df.columns = ['Overall Rating']\n",
    "\n",
    "ratings_df = pd.concat([appearance_rating_df, palate_rating_df], axis= 1, join='inner')\n",
    "ratings_df = pd.concat([ratings_df, aroma_rating_df], axis=1, join='inner')\n",
    "ratings_df = pd.concat([ratings_df, taste_rating_df], axis=1, join='inner')\n",
    "ratings_df = pd.concat([ratings_df, overall_rating_df], axis=1, join='inner')\n",
    "\n",
    "print(\"\\nAn Overview of the Ratings for the 5 Most-reviewed Beer Types \")\n",
    "#The dataframe that contains all the individual ratings ratings_df ## THIS CONTAINS THE AVERAGE RATINGS\n",
    "\n",
    "ratings_df"
   ]
  },
  {
   "cell_type": "code",
   "execution_count": 13,
   "metadata": {},
   "outputs": [
    {
     "data": {
      "image/png": "[encoded data removed]",
      "text/plain": [
       "<Figure size 864x576 with 1 Axes>"
      ]
     },
     "metadata": {
      "needs_background": "light"
     },
     "output_type": "display_data"
    }
   ],
   "source": [
    "ratings_df.plot.bar(title = 'Overview of the Ratings for the 5 Most-re viewed Beer Types',figsize= (12,8))\n",
    "labels = [3.5, 4.0, 4.5, 5.0]\n",
    "plt.yticks(labels)\n",
    "plt.ylim(3.5,5) \n",
    "plt.xticks(rotation = 35) \n",
    "plt.xlabel(\"Beer Type\") \n",
    "plt.ylabel(\"Rating\") \n",
    "plt.show()"
   ]
  },
  {
   "cell_type": "markdown",
   "metadata": {},
   "source": [
    "## Observation:\n",
    "From the bar chart above, we can see that \"American Double/Imperial Stout\" is the beer type that receives the highest review in all categories (appearance, palate, aroma, taste and overall)"
   ]
  },
  {
   "cell_type": "code",
   "execution_count": 14,
   "metadata": {},
   "outputs": [
    {
     "data": {
      "image/png": "[encoded data removed]",
      "text/plain": [
       "<Figure size 720x576 with 1 Axes>"
      ]
     },
     "metadata": {
      "needs_background": "light"
     },
     "output_type": "display_data"
    }
   ],
   "source": [
    "df_top_5['review/overall'].value_counts().sort_index().plot('bar',title = 'Overall Rating Distribution',figsize= (10,8), color='#1f77b4')\n",
    "plt.xticks(rotation = 0)\n",
    "plt.xlabel(\"Overall Rating\")\n",
    "plt.ylabel(\"Count\") \n",
    "plt.show()"
   ]
  },
  {
   "cell_type": "markdown",
   "metadata": {},
   "source": [
    "## Observation:\n",
    "From the bar chart above, we can see that people tend to give an overall rating of 4.0 for the 5 most-popular beer styles. This means that the most-reviewed beers also tend to receive a relatively high overall rating."
   ]
  },
  {
   "cell_type": "code",
   "execution_count": 15,
   "metadata": {},
   "outputs": [],
   "source": [
    "df_top_5 = df_top_5[['review/appearance', 'review/aroma', 'review/palate', 'review/taste', 'review/overall']]\n",
    "data = df_top_5.sample(frac=1) ## random shuffle the dataframe ( not in place)"
   ]
  },
  {
   "cell_type": "code",
   "execution_count": 16,
   "metadata": {},
   "outputs": [
    {
     "data": {
      "image/png": "[encoded data removed]",
      "text/plain": [
       "<Figure size 432x288 with 2 Axes>"
      ]
     },
     "metadata": {
      "needs_background": "light"
     },
     "output_type": "display_data"
    }
   ],
   "source": [
    "#Using Pearson Correlation plt.figure(figsize=(10,10))\n",
    "cor = data.corr()\n",
    "ax = sns.heatmap(cor, annot=True, cmap=plt.cm.Reds) \n",
    "ax.xaxis.set_ticks_position('top')\n",
    "loc, labels = plt.yticks() \n",
    "ax.set_yticklabels(labels, rotation=0)\n",
    "plt.show()"
   ]
  },
  {
   "cell_type": "markdown",
   "metadata": {},
   "source": [
    "## OBSERVATION:\n",
    "Based on the correlation matrix above, we can see that taste correlates the most (corr = 0.72) with the overall beer rating, meaning that taste is the most important feature of a beer."
   ]
  },
  {
   "cell_type": "markdown",
   "metadata": {},
   "source": [
    "## Part 2: Predictive Task\n",
    "\n",
    "### Predicting Overall Beer Rating from Taste, Appearance, Aroma and Palate Ratings\n",
    "\n",
    "- Data is split into train and test set (80:20 ratio)\n",
    "\n",
    "- Using the ratings for the four features (taste, appearance, aroma and palate), we will use first use linear regression to predict the overall rating for each beer style. This will serve as the baseline predictor that we will improve upon"
   ]
  },
  {
   "cell_type": "code",
   "execution_count": 48,
   "metadata": {},
   "outputs": [
    {
     "name": "stdout",
     "output_type": "stream",
     "text": [
      "100000 50000 50000\n"
     ]
    }
   ],
   "source": [
    "beer_dat = shuffle(beer_dat)\n",
    "\n",
    "#train-test split\n",
    "train_size = int(len(beer_dat)*float(0.5))\n",
    "valid_size = int(len(beer_dat)*float(0.25))\n",
    "test_size = int(len(beer_dat)*float(0.25))\n",
    "                 \n",
    "trainX = beer_dat[:train_size]\n",
    "trainY = beer_dat['review/overall'][:train_size] \n",
    "\n",
    "validX = beer_dat[train_size:train_size + valid_size]\n",
    "validY = beer_dat['review/overall'][train_size:train_size + valid_size]\n",
    "\n",
    "testX = beer_dat[(train_size + valid_size):(train_size + valid_size + test_size)] \n",
    "testY = beer_dat['review/overall'][(train_size + valid_size):(train_size + valid_size + test_size)]         \n",
    "\n",
    "print(len(trainX), len(validX), len(testX))"
   ]
  },
  {
   "cell_type": "code",
   "execution_count": 49,
   "metadata": {},
   "outputs": [],
   "source": [
    "tfidf_vectorizer=TfidfVectorizer(use_idf=True)\n",
    "\n",
    "# compute tfidf with training set and get values for training set\n",
    "fitted_vectorizer=tfidf_vectorizer.fit(trainX['review/text'].tolist())\n",
    "tfidf_vectorizer_vectors=fitted_vectorizer.transform(trainX['review/text'].tolist())\n",
    "\n",
    "# values for validation set\n",
    "tfidf_vectorizer_valid=fitted_vectorizer.transform(validX['review/text'].tolist())"
   ]
  },
  {
   "cell_type": "code",
   "execution_count": 50,
   "metadata": {},
   "outputs": [
    {
     "name": "stdout",
     "output_type": "stream",
     "text": [
      "(100000, 70948)\n",
      "(50000, 70948)\n"
     ]
    }
   ],
   "source": [
    "print(tfidf_vectorizer_vectors.shape)\n",
    "print(tfidf_vectorizer_valid.shape)"
   ]
  },
  {
   "cell_type": "code",
   "execution_count": null,
   "metadata": {},
   "outputs": [],
   "source": []
  },
  {
   "cell_type": "code",
   "execution_count": null,
   "metadata": {},
   "outputs": [],
   "source": []
  },
  {
   "cell_type": "code",
   "execution_count": 51,
   "metadata": {},
   "outputs": [],
   "source": [
    "# Create dictionary of top five beers to use for one hot encoding\n",
    "topfive = trainX['beer/style'].value_counts().index[:5]\n",
    "fivedict = dict(zip(topfive, [0, 1, 2, 3, 4]))\n",
    "\n",
    "def pick_feature(datum): \n",
    "    feat=[]\n",
    "    feat.append( datum['review/taste']) \n",
    "    feat.append( datum['review/palate']) \n",
    "    feat.append( datum['review/aroma']) \n",
    "    feat.append( datum['review/appearance'])\n",
    "    \n",
    "    \n",
    "    # one hot encoding for top 5 beer styles\n",
    "    empty = [0, 0, 0, 0, 0]\n",
    "    style = datum['beer/style']\n",
    "    if (style in topfive):\n",
    "        empty[fivedict[style]] = 1\n",
    "        \n",
    "    feat.extend(empty)\n",
    "    \n",
    "    return feat"
   ]
  },
  {
   "cell_type": "code",
   "execution_count": 52,
   "metadata": {},
   "outputs": [],
   "source": [
    "# Create training feature matrix\n",
    "train_feat = []\n",
    "for index, row in trainX.iterrows():\n",
    "    train_feat.append(pick_feature(row))\n",
    "    \n",
    "# Create valid feature matrix\n",
    "valid_feat = []\n",
    "for index, row in validX.iterrows():\n",
    "    valid_feat.append(pick_feature(row))"
   ]
  },
  {
   "cell_type": "code",
   "execution_count": 53,
   "metadata": {},
   "outputs": [],
   "source": [
    "traincomp = csr_matrix(train_feat)\n",
    "validcomp = csr_matrix(valid_feat)"
   ]
  },
  {
   "cell_type": "code",
   "execution_count": 54,
   "metadata": {},
   "outputs": [],
   "source": [
    "finaltrain = sp.hstack((traincomp, tfidf_vectorizer_vectors))\n",
    "finalvalid = sp.hstack((validcomp, tfidf_vectorizer_valid))"
   ]
  },
  {
   "cell_type": "code",
   "execution_count": null,
   "metadata": {},
   "outputs": [],
   "source": []
  },
  {
   "cell_type": "code",
   "execution_count": 55,
   "metadata": {},
   "outputs": [
    {
     "name": "stdout",
     "output_type": "stream",
     "text": [
      "0.7631544340665353\n",
      "0.1228294574575128\n",
      "0.21179082850289221\n",
      "\n",
      "\n",
      "-0.5107896256997335\n",
      "0.7978112009140107\n",
      "0.6263516505044828\n"
     ]
    }
   ],
   "source": [
    "model = LinearRegression()\n",
    "model.fit(finaltrain, trainY)\n",
    "\n",
    "\n",
    "train_pred = model.predict(finaltrain)\n",
    "#Returns the coefficient of determination R^2 of the prediction.\n",
    "print(model.score(finaltrain, trainY))\n",
    "# Print MSE and MAE to compare\n",
    "print(mean_squared_error(trainY, train_pred))\n",
    "print(mean_absolute_error(trainY, train_pred))\n",
    "\n",
    "print('\\n')\n",
    "\n",
    "\n",
    "valid_pred = model.predict(finalvalid)\n",
    "#Returns the coefficient of determination R^2 of the prediction.\n",
    "print(model.score(finalvalid, validY))\n",
    "# Print MSE and MAE to compare\n",
    "print(mean_squared_error(validY, valid_pred))\n",
    "print(mean_absolute_error(validY, valid_pred))"
   ]
  },
  {
   "cell_type": "code",
   "execution_count": null,
   "metadata": {},
   "outputs": [],
   "source": []
  },
  {
   "cell_type": "code",
   "execution_count": null,
   "metadata": {},
   "outputs": [],
   "source": [
    "# all four scores and one hot top five beers\n",
    "0.6615898250522957\n",
    "0.17583554419062639\n",
    "0.3127927941938682\n",
    "\n",
    "\n",
    "0.6583456872393458\n",
    "0.1791718975746533\n",
    "0.31451956772621104"
   ]
  },
  {
   "cell_type": "code",
   "execution_count": null,
   "metadata": {},
   "outputs": [],
   "source": []
  },
  {
   "cell_type": "code",
   "execution_count": null,
   "metadata": {},
   "outputs": [],
   "source": [
    "#after predicting the overall beer rating, decide a threshold to calculate accuracy of beer prediction\n",
    "# ?!!!!!!!!\n",
    "# smaller than THRESHOLD === accurate prediction\n",
    "# for now, set threshold to be 0.4, given ratings range from 0 - 5\n",
    "\n",
    "threshold = 0.4\n",
    "diff = abs(testY - valid_pred)\n",
    "sum(diff <= threshold)/len(diff)"
   ]
  },
  {
   "cell_type": "code",
   "execution_count": null,
   "metadata": {},
   "outputs": [],
   "source": [
    "diff"
   ]
  },
  {
   "cell_type": "code",
   "execution_count": null,
   "metadata": {},
   "outputs": [],
   "source": []
  }
 ],
 "metadata": {
  "kernelspec": {
   "display_name": "Python 3",
   "language": "python",
   "name": "python3"
  },
  "language_info": {
   "codemirror_mode": {
    "name": "ipython",
    "version": 3
   },
   "file_extension": ".py",
   "mimetype": "text/x-python",
   "name": "python",
   "nbconvert_exporter": "python",
   "pygments_lexer": "ipython3",
   "version": "3.7.1"
  }
 },
 "nbformat": 4,
 "nbformat_minor": 2
}
