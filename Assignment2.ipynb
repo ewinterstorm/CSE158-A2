{
 "cells": [
  {
   "cell_type": "markdown",
   "metadata": {},
   "source": [
    "Toan Bui A13599266\n",
    "<br>\n",
    "Kaylyn Han\n",
    "<br>\n",
    "Elise Wong A13026941"
   ]
  },
  {
   "cell_type": "code",
   "execution_count": 1,
   "metadata": {},
   "outputs": [],
   "source": [
    "import gzip\n",
    "import pandas as pd\n",
    "import matplotlib.pyplot as plt\n",
    "import math\n",
    "import seaborn as sns\n",
    "\n",
    "from sklearn.linear_model import LinearRegression\n",
    "from sklearn.metrics import mean_squared_error\n",
    "from sklearn.metrics import mean_absolute_error\n",
    "\n",
    "from numpy import cov\n",
    "from sklearn.utils import shuffle\n",
    "import numpy as nps"
   ]
  },
  {
   "cell_type": "code",
   "execution_count": 2,
   "metadata": {},
   "outputs": [],
   "source": [
    "data = {}\n",
    "unzipped = gzip.open('Beeradvocate.txt.gz', 'rb')\n",
    "\n",
    "ind = 0\n",
    "currdat = {}\n",
    "with unzipped as f:\n",
    "    for line in f:\n",
    "        clean = line.decode('utf-8')\n",
    "        clean = clean.replace('\\t', '')\n",
    "        splitted = clean.replace('\\n', '').split(':')\n",
    "\n",
    "        if (len(splitted) == 1):\n",
    "            data[f\"{ind}\"] = currdat\n",
    "            currdat = {}\n",
    "            ind = ind + 1\n",
    "        \n",
    "        else:\n",
    "            currdat[f\"{splitted[0]}\"] = splitted[1].strip()\n",
    "\n",
    "df= pd.DataFrame(data).transpose()"
   ]
  },
  {
   "cell_type": "code",
   "execution_count": 3,
   "metadata": {},
   "outputs": [
    {
     "data": {
      "text/html": [
       "<div>\n",
       "<style scoped>\n",
       "    .dataframe tbody tr th:only-of-type {\n",
       "        vertical-align: middle;\n",
       "    }\n",
       "\n",
       "    .dataframe tbody tr th {\n",
       "        vertical-align: top;\n",
       "    }\n",
       "\n",
       "    .dataframe thead th {\n",
       "        text-align: right;\n",
       "    }\n",
       "</style>\n",
       "<table border=\"1\" class=\"dataframe\">\n",
       "  <thead>\n",
       "    <tr style=\"text-align: right;\">\n",
       "      <th></th>\n",
       "      <th>beer/ABV</th>\n",
       "      <th>beer/beerId</th>\n",
       "      <th>beer/brewerId</th>\n",
       "      <th>beer/name</th>\n",
       "      <th>beer/style</th>\n",
       "      <th>review/appearance</th>\n",
       "      <th>review/aroma</th>\n",
       "      <th>review/overall</th>\n",
       "      <th>review/palate</th>\n",
       "      <th>review/profileName</th>\n",
       "      <th>review/taste</th>\n",
       "      <th>review/text</th>\n",
       "      <th>review/time</th>\n",
       "    </tr>\n",
       "  </thead>\n",
       "  <tbody>\n",
       "    <tr>\n",
       "      <th>0</th>\n",
       "      <td>5.00</td>\n",
       "      <td>47986</td>\n",
       "      <td>10325</td>\n",
       "      <td>Sausa Weizen</td>\n",
       "      <td>Hefeweizen</td>\n",
       "      <td>2.5</td>\n",
       "      <td>2</td>\n",
       "      <td>1.5</td>\n",
       "      <td>1.5</td>\n",
       "      <td>stcules</td>\n",
       "      <td>1.5</td>\n",
       "      <td>A lot of foam. But a lot.In the smell some ban...</td>\n",
       "      <td>1234817823</td>\n",
       "    </tr>\n",
       "    <tr>\n",
       "      <th>1</th>\n",
       "      <td>6.20</td>\n",
       "      <td>48213</td>\n",
       "      <td>10325</td>\n",
       "      <td>Red Moon</td>\n",
       "      <td>English Strong Ale</td>\n",
       "      <td>3</td>\n",
       "      <td>2.5</td>\n",
       "      <td>3</td>\n",
       "      <td>3</td>\n",
       "      <td>stcules</td>\n",
       "      <td>3</td>\n",
       "      <td>Dark red color, light beige foam, average.In t...</td>\n",
       "      <td>1235915097</td>\n",
       "    </tr>\n",
       "    <tr>\n",
       "      <th>2</th>\n",
       "      <td>6.50</td>\n",
       "      <td>48215</td>\n",
       "      <td>10325</td>\n",
       "      <td>Black Horse Black Beer</td>\n",
       "      <td>Foreign / Export Stout</td>\n",
       "      <td>3</td>\n",
       "      <td>2.5</td>\n",
       "      <td>3</td>\n",
       "      <td>3</td>\n",
       "      <td>stcules</td>\n",
       "      <td>3</td>\n",
       "      <td>Almost totally black. Beige foam, quite compac...</td>\n",
       "      <td>1235916604</td>\n",
       "    </tr>\n",
       "    <tr>\n",
       "      <th>3</th>\n",
       "      <td>5.00</td>\n",
       "      <td>47969</td>\n",
       "      <td>10325</td>\n",
       "      <td>Sausa Pils</td>\n",
       "      <td>German Pilsener</td>\n",
       "      <td>3.5</td>\n",
       "      <td>3</td>\n",
       "      <td>3</td>\n",
       "      <td>2.5</td>\n",
       "      <td>stcules</td>\n",
       "      <td>3</td>\n",
       "      <td>Golden yellow color. White, compact foam, quit...</td>\n",
       "      <td>1234725145</td>\n",
       "    </tr>\n",
       "    <tr>\n",
       "      <th>4</th>\n",
       "      <td>7.70</td>\n",
       "      <td>64883</td>\n",
       "      <td>1075</td>\n",
       "      <td>Cauldron DIPA</td>\n",
       "      <td>American Double / Imperial IPA</td>\n",
       "      <td>4</td>\n",
       "      <td>4.5</td>\n",
       "      <td>4</td>\n",
       "      <td>4</td>\n",
       "      <td>johnmichaelsen</td>\n",
       "      <td>4.5</td>\n",
       "      <td>According to the website, the style for the Ca...</td>\n",
       "      <td>1293735206</td>\n",
       "    </tr>\n",
       "  </tbody>\n",
       "</table>\n",
       "</div>"
      ],
      "text/plain": [
       "  beer/ABV beer/beerId beer/brewerId               beer/name  \\\n",
       "0     5.00       47986         10325            Sausa Weizen   \n",
       "1     6.20       48213         10325                Red Moon   \n",
       "2     6.50       48215         10325  Black Horse Black Beer   \n",
       "3     5.00       47969         10325              Sausa Pils   \n",
       "4     7.70       64883          1075           Cauldron DIPA   \n",
       "\n",
       "                       beer/style review/appearance review/aroma  \\\n",
       "0                      Hefeweizen               2.5            2   \n",
       "1              English Strong Ale                 3          2.5   \n",
       "2          Foreign / Export Stout                 3          2.5   \n",
       "3                 German Pilsener               3.5            3   \n",
       "4  American Double / Imperial IPA                 4          4.5   \n",
       "\n",
       "  review/overall review/palate review/profileName review/taste  \\\n",
       "0            1.5           1.5            stcules          1.5   \n",
       "1              3             3            stcules            3   \n",
       "2              3             3            stcules            3   \n",
       "3              3           2.5            stcules            3   \n",
       "4              4             4     johnmichaelsen          4.5   \n",
       "\n",
       "                                         review/text review/time  \n",
       "0  A lot of foam. But a lot.In the smell some ban...  1234817823  \n",
       "1  Dark red color, light beige foam, average.In t...  1235915097  \n",
       "2  Almost totally black. Beige foam, quite compac...  1235916604  \n",
       "3  Golden yellow color. White, compact foam, quit...  1234725145  \n",
       "4  According to the website, the style for the Ca...  1293735206  "
      ]
     },
     "execution_count": 3,
     "metadata": {},
     "output_type": "execute_result"
    }
   ],
   "source": [
    "df.head()"
   ]
  },
  {
   "cell_type": "code",
   "execution_count": 4,
   "metadata": {},
   "outputs": [
    {
     "data": {
      "text/plain": [
       "(200000, 13)"
      ]
     },
     "execution_count": 4,
     "metadata": {},
     "output_type": "execute_result"
    }
   ],
   "source": [
    "#beer_dat = shuffle(beer_dat)\n",
    "\n",
    "# use only the first 200000 data points from the dataset\n",
    "beer_dat = df.copy()[:200000]\n",
    "beer_dat.shape"
   ]
  },
  {
   "cell_type": "code",
   "execution_count": 5,
   "metadata": {},
   "outputs": [
    {
     "name": "stdout",
     "output_type": "stream",
     "text": [
      "104\n",
      "103\n"
     ]
    }
   ],
   "source": [
    "# check the number of unique styles of beer\n",
    "print(len(df['beer/style'].unique()))\n",
    "print(len(beer_dat['beer/style'].unique()))"
   ]
  },
  {
   "cell_type": "code",
   "execution_count": 6,
   "metadata": {},
   "outputs": [],
   "source": [
    "beer_dat['review/appearance'] = beer_dat['review/appearance'].apply(float)\n",
    "beer_dat['review/aroma'] = beer_dat['review/aroma'].apply(float)\n",
    "beer_dat['review/overall'] = beer_dat['review/overall'].apply(float)\n",
    "beer_dat['review/palate'] = beer_dat['review/palate'].apply(float)\n",
    "beer_dat['review/taste'] = beer_dat['review/taste'].apply(float)"
   ]
  },
  {
   "cell_type": "markdown",
   "metadata": {},
   "source": [
    "## Part 1: Exploratory Analysis on Beer Dataset"
   ]
  },
  {
   "cell_type": "code",
   "execution_count": 7,
   "metadata": {},
   "outputs": [
    {
     "data": {
      "text/html": [
       "<div>\n",
       "<style scoped>\n",
       "    .dataframe tbody tr th:only-of-type {\n",
       "        vertical-align: middle;\n",
       "    }\n",
       "\n",
       "    .dataframe tbody tr th {\n",
       "        vertical-align: top;\n",
       "    }\n",
       "\n",
       "    .dataframe thead th {\n",
       "        text-align: right;\n",
       "    }\n",
       "</style>\n",
       "<table border=\"1\" class=\"dataframe\">\n",
       "  <thead>\n",
       "    <tr style=\"text-align: right;\">\n",
       "      <th></th>\n",
       "      <th>beer/ABV</th>\n",
       "      <th>beer/beerId</th>\n",
       "      <th>beer/brewerId</th>\n",
       "      <th>beer/name</th>\n",
       "      <th>beer/style</th>\n",
       "      <th>review/appearance</th>\n",
       "      <th>review/aroma</th>\n",
       "      <th>review/overall</th>\n",
       "      <th>review/palate</th>\n",
       "      <th>review/profileName</th>\n",
       "      <th>review/taste</th>\n",
       "      <th>review/text</th>\n",
       "      <th>review/time</th>\n",
       "    </tr>\n",
       "  </thead>\n",
       "  <tbody>\n",
       "    <tr>\n",
       "      <th>0</th>\n",
       "      <td>5.00</td>\n",
       "      <td>47986</td>\n",
       "      <td>10325</td>\n",
       "      <td>Sausa Weizen</td>\n",
       "      <td>Hefeweizen</td>\n",
       "      <td>2.5</td>\n",
       "      <td>2.0</td>\n",
       "      <td>1.5</td>\n",
       "      <td>1.5</td>\n",
       "      <td>stcules</td>\n",
       "      <td>1.5</td>\n",
       "      <td>A lot of foam. But a lot.In the smell some ban...</td>\n",
       "      <td>1234817823</td>\n",
       "    </tr>\n",
       "    <tr>\n",
       "      <th>1</th>\n",
       "      <td>6.20</td>\n",
       "      <td>48213</td>\n",
       "      <td>10325</td>\n",
       "      <td>Red Moon</td>\n",
       "      <td>English Strong Ale</td>\n",
       "      <td>3.0</td>\n",
       "      <td>2.5</td>\n",
       "      <td>3.0</td>\n",
       "      <td>3.0</td>\n",
       "      <td>stcules</td>\n",
       "      <td>3.0</td>\n",
       "      <td>Dark red color, light beige foam, average.In t...</td>\n",
       "      <td>1235915097</td>\n",
       "    </tr>\n",
       "    <tr>\n",
       "      <th>2</th>\n",
       "      <td>6.50</td>\n",
       "      <td>48215</td>\n",
       "      <td>10325</td>\n",
       "      <td>Black Horse Black Beer</td>\n",
       "      <td>Foreign / Export Stout</td>\n",
       "      <td>3.0</td>\n",
       "      <td>2.5</td>\n",
       "      <td>3.0</td>\n",
       "      <td>3.0</td>\n",
       "      <td>stcules</td>\n",
       "      <td>3.0</td>\n",
       "      <td>Almost totally black. Beige foam, quite compac...</td>\n",
       "      <td>1235916604</td>\n",
       "    </tr>\n",
       "    <tr>\n",
       "      <th>3</th>\n",
       "      <td>5.00</td>\n",
       "      <td>47969</td>\n",
       "      <td>10325</td>\n",
       "      <td>Sausa Pils</td>\n",
       "      <td>German Pilsener</td>\n",
       "      <td>3.5</td>\n",
       "      <td>3.0</td>\n",
       "      <td>3.0</td>\n",
       "      <td>2.5</td>\n",
       "      <td>stcules</td>\n",
       "      <td>3.0</td>\n",
       "      <td>Golden yellow color. White, compact foam, quit...</td>\n",
       "      <td>1234725145</td>\n",
       "    </tr>\n",
       "    <tr>\n",
       "      <th>4</th>\n",
       "      <td>7.70</td>\n",
       "      <td>64883</td>\n",
       "      <td>1075</td>\n",
       "      <td>Cauldron DIPA</td>\n",
       "      <td>American Double / Imperial IPA</td>\n",
       "      <td>4.0</td>\n",
       "      <td>4.5</td>\n",
       "      <td>4.0</td>\n",
       "      <td>4.0</td>\n",
       "      <td>johnmichaelsen</td>\n",
       "      <td>4.5</td>\n",
       "      <td>According to the website, the style for the Ca...</td>\n",
       "      <td>1293735206</td>\n",
       "    </tr>\n",
       "  </tbody>\n",
       "</table>\n",
       "</div>"
      ],
      "text/plain": [
       "  beer/ABV beer/beerId beer/brewerId               beer/name  \\\n",
       "0     5.00       47986         10325            Sausa Weizen   \n",
       "1     6.20       48213         10325                Red Moon   \n",
       "2     6.50       48215         10325  Black Horse Black Beer   \n",
       "3     5.00       47969         10325              Sausa Pils   \n",
       "4     7.70       64883          1075           Cauldron DIPA   \n",
       "\n",
       "                       beer/style  review/appearance  review/aroma  \\\n",
       "0                      Hefeweizen                2.5           2.0   \n",
       "1              English Strong Ale                3.0           2.5   \n",
       "2          Foreign / Export Stout                3.0           2.5   \n",
       "3                 German Pilsener                3.5           3.0   \n",
       "4  American Double / Imperial IPA                4.0           4.5   \n",
       "\n",
       "   review/overall  review/palate review/profileName  review/taste  \\\n",
       "0             1.5            1.5            stcules           1.5   \n",
       "1             3.0            3.0            stcules           3.0   \n",
       "2             3.0            3.0            stcules           3.0   \n",
       "3             3.0            2.5            stcules           3.0   \n",
       "4             4.0            4.0     johnmichaelsen           4.5   \n",
       "\n",
       "                                         review/text review/time  \n",
       "0  A lot of foam. But a lot.In the smell some ban...  1234817823  \n",
       "1  Dark red color, light beige foam, average.In t...  1235915097  \n",
       "2  Almost totally black. Beige foam, quite compac...  1235916604  \n",
       "3  Golden yellow color. White, compact foam, quit...  1234725145  \n",
       "4  According to the website, the style for the Ca...  1293735206  "
      ]
     },
     "execution_count": 7,
     "metadata": {},
     "output_type": "execute_result"
    }
   ],
   "source": [
    "beer_dat[:5]"
   ]
  },
  {
   "cell_type": "code",
   "execution_count": 8,
   "metadata": {},
   "outputs": [
    {
     "name": "stdout",
     "output_type": "stream",
     "text": [
      "The beer-review dataset contains 103 unique types of beer\n",
      "\n",
      "Here are 5 most-reviewed types of beer: \n"
     ]
    },
    {
     "data": {
      "text/html": [
       "<div>\n",
       "<style scoped>\n",
       "    .dataframe tbody tr th:only-of-type {\n",
       "        vertical-align: middle;\n",
       "    }\n",
       "\n",
       "    .dataframe tbody tr th {\n",
       "        vertical-align: top;\n",
       "    }\n",
       "\n",
       "    .dataframe thead th {\n",
       "        text-align: right;\n",
       "    }\n",
       "</style>\n",
       "<table border=\"1\" class=\"dataframe\">\n",
       "  <thead>\n",
       "    <tr style=\"text-align: right;\">\n",
       "      <th></th>\n",
       "      <th>NUMBER OF REVIEWS</th>\n",
       "    </tr>\n",
       "  </thead>\n",
       "  <tbody>\n",
       "    <tr>\n",
       "      <th>American IPA</th>\n",
       "      <td>24797</td>\n",
       "    </tr>\n",
       "    <tr>\n",
       "      <th>American Double / Imperial Stout</th>\n",
       "      <td>18077</td>\n",
       "    </tr>\n",
       "    <tr>\n",
       "      <th>American Double / Imperial IPA</th>\n",
       "      <td>13590</td>\n",
       "    </tr>\n",
       "    <tr>\n",
       "      <th>American Pale Ale (APA)</th>\n",
       "      <td>9971</td>\n",
       "    </tr>\n",
       "    <tr>\n",
       "      <th>American Porter</th>\n",
       "      <td>6769</td>\n",
       "    </tr>\n",
       "  </tbody>\n",
       "</table>\n",
       "</div>"
      ],
      "text/plain": [
       "                                  NUMBER OF REVIEWS\n",
       "American IPA                                  24797\n",
       "American Double / Imperial Stout              18077\n",
       "American Double / Imperial IPA                13590\n",
       "American Pale Ale (APA)                        9971\n",
       "American Porter                                6769"
      ]
     },
     "execution_count": 8,
     "metadata": {},
     "output_type": "execute_result"
    }
   ],
   "source": [
    "print(\"The beer-review dataset contains \" + str(len(beer_dat['beer/style'].unique())) + \" unique types of beer\\n\")\n",
    "print(\"Here are 5 most-reviewed types of beer: \")\n",
    "top_5_beer = beer_dat['beer/style'].value_counts().head(5).to_frame() \n",
    "top_5_beer.columns = ['NUMBER OF REVIEWS']\n",
    "top_5_beer"
   ]
  },
  {
   "cell_type": "code",
   "execution_count": 9,
   "metadata": {},
   "outputs": [],
   "source": [
    "to_contain = 'American Double / Imperial Stout|American IPA|American Double / Imperial IPA|American Pale Ale \\(APA\\)|American Porter'\n",
    "df_top_5 = beer_dat[beer_dat['beer/style'].str.contains(to_contain , na=False)]"
   ]
  },
  {
   "cell_type": "code",
   "execution_count": 10,
   "metadata": {},
   "outputs": [],
   "source": [
    "df_top_5 = df_top_5.sort_values(by=['beer/style']) \n",
    "df_top_5 = df_top_5.reset_index() \n",
    "df_top_5.drop('index', axis=1, inplace=True)\n",
    "\n",
    "beer_styles = ['American Double / Imperial Stout', 'American IPA', 'American Double / Imperial IPA','American Pale Ale (APA)','American Porter']\n",
    "beer_ratings = [0,0,0,0,0]\n",
    "appearance_rating_dict = dict(zip(beer_styles,beer_ratings)) \n",
    "palate_rating_dict = dict(zip(beer_styles,beer_ratings)) \n",
    "aroma_rating_dict = dict(zip(beer_styles,beer_ratings)) \n",
    "taste_rating_dict = dict(zip(beer_styles,beer_ratings)) \n",
    "overall_rating_dict = dict(zip(beer_styles,beer_ratings))\n",
    "\n",
    "for style in beer_styles:\n",
    "    appearance_rating_dict[style] = round(df_top_5[df_top_5['beer/style'] == style]['review/appearance'].mean(),2) \n",
    "    palate_rating_dict[style] = round(df_top_5[df_top_5['beer/style']== style]['review/palate'].mean(),2)\n",
    "    aroma_rating_dict[style] = round(df_top_5[df_top_5['beer/style'] == style]['review/aroma'].mean(),2)\n",
    "    taste_rating_dict[style] = round(df_top_5[df_top_5['beer/style'] == style]['review/taste'].mean(),2)\n",
    "    overall_rating_dict[style] = round(df_top_5[df_top_5['beer/style']== style]['review/overall'].mean(),2)\n",
    "    \n",
    "appearance_rating_df = pd.Series(appearance_rating_dict).to_frame() \n",
    "palate_rating_df = pd.Series(palate_rating_dict).to_frame() \n",
    "aroma_rating_df = pd.Series(aroma_rating_dict).to_frame() \n",
    "taste_rating_df = pd.Series(taste_rating_dict).to_frame() \n",
    "overall_rating_df = pd.Series(overall_rating_dict).to_frame()"
   ]
  },
  {
   "cell_type": "code",
   "execution_count": 11,
   "metadata": {},
   "outputs": [
    {
     "name": "stdout",
     "output_type": "stream",
     "text": [
      "\n",
      "An Overview of the Ratings for the 5 Most-reviewed Beer Types \n"
     ]
    },
    {
     "data": {
      "text/html": [
       "<div>\n",
       "<style scoped>\n",
       "    .dataframe tbody tr th:only-of-type {\n",
       "        vertical-align: middle;\n",
       "    }\n",
       "\n",
       "    .dataframe tbody tr th {\n",
       "        vertical-align: top;\n",
       "    }\n",
       "\n",
       "    .dataframe thead th {\n",
       "        text-align: right;\n",
       "    }\n",
       "</style>\n",
       "<table border=\"1\" class=\"dataframe\">\n",
       "  <thead>\n",
       "    <tr style=\"text-align: right;\">\n",
       "      <th></th>\n",
       "      <th>Appearance Rating</th>\n",
       "      <th>Palate Rating</th>\n",
       "      <th>Aroma Rating</th>\n",
       "      <th>Taste Rating</th>\n",
       "      <th>Overall Rating</th>\n",
       "    </tr>\n",
       "  </thead>\n",
       "  <tbody>\n",
       "    <tr>\n",
       "      <th>American Double / Imperial Stout</th>\n",
       "      <td>4.21</td>\n",
       "      <td>4.19</td>\n",
       "      <td>4.27</td>\n",
       "      <td>4.30</td>\n",
       "      <td>4.13</td>\n",
       "    </tr>\n",
       "    <tr>\n",
       "      <th>American IPA</th>\n",
       "      <td>4.08</td>\n",
       "      <td>3.98</td>\n",
       "      <td>4.01</td>\n",
       "      <td>4.06</td>\n",
       "      <td>4.08</td>\n",
       "    </tr>\n",
       "    <tr>\n",
       "      <th>American Double / Imperial IPA</th>\n",
       "      <td>4.05</td>\n",
       "      <td>3.99</td>\n",
       "      <td>4.07</td>\n",
       "      <td>4.05</td>\n",
       "      <td>3.95</td>\n",
       "    </tr>\n",
       "    <tr>\n",
       "      <th>American Pale Ale (APA)</th>\n",
       "      <td>3.80</td>\n",
       "      <td>3.71</td>\n",
       "      <td>3.67</td>\n",
       "      <td>3.76</td>\n",
       "      <td>3.91</td>\n",
       "    </tr>\n",
       "    <tr>\n",
       "      <th>American Porter</th>\n",
       "      <td>3.93</td>\n",
       "      <td>3.80</td>\n",
       "      <td>3.84</td>\n",
       "      <td>3.92</td>\n",
       "      <td>3.92</td>\n",
       "    </tr>\n",
       "  </tbody>\n",
       "</table>\n",
       "</div>"
      ],
      "text/plain": [
       "                                  Appearance Rating  Palate Rating  \\\n",
       "American Double / Imperial Stout               4.21           4.19   \n",
       "American IPA                                   4.08           3.98   \n",
       "American Double / Imperial IPA                 4.05           3.99   \n",
       "American Pale Ale (APA)                        3.80           3.71   \n",
       "American Porter                                3.93           3.80   \n",
       "\n",
       "                                  Aroma Rating  Taste Rating  Overall Rating  \n",
       "American Double / Imperial Stout          4.27          4.30            4.13  \n",
       "American IPA                              4.01          4.06            4.08  \n",
       "American Double / Imperial IPA            4.07          4.05            3.95  \n",
       "American Pale Ale (APA)                   3.67          3.76            3.91  \n",
       "American Porter                           3.84          3.92            3.92  "
      ]
     },
     "execution_count": 11,
     "metadata": {},
     "output_type": "execute_result"
    }
   ],
   "source": [
    "appearance_rating_df.columns = ['Appearance Rating'] \n",
    "palate_rating_df.columns = ['Palate Rating'] \n",
    "aroma_rating_df.columns = ['Aroma Rating'] \n",
    "taste_rating_df.columns = ['Taste Rating'] \n",
    "overall_rating_df.columns = ['Overall Rating']\n",
    "\n",
    "ratings_df = pd.concat([appearance_rating_df, palate_rating_df], axis= 1, join='inner')\n",
    "ratings_df = pd.concat([ratings_df, aroma_rating_df], axis=1, join='inner')\n",
    "ratings_df = pd.concat([ratings_df, taste_rating_df], axis=1, join='inner')\n",
    "ratings_df = pd.concat([ratings_df, overall_rating_df], axis=1, join='inner')\n",
    "\n",
    "print(\"\\nAn Overview of the Ratings for the 5 Most-reviewed Beer Types \")\n",
    "#The dataframe that contains all the individual ratings ratings_df ## THIS CONTAINS THE AVERAGE RATINGS\n",
    "\n",
    "ratings_df"
   ]
  },
  {
   "cell_type": "code",
   "execution_count": 12,
   "metadata": {},
   "outputs": [
    {
     "data": {
      "image/png": "[encoded data removed]",
      "text/plain": [
       "<Figure size 864x576 with 1 Axes>"
      ]
     },
     "metadata": {
      "needs_background": "light"
     },
     "output_type": "display_data"
    }
   ],
   "source": [
    "ratings_df.plot.bar(title = 'Overview of the Ratings for the 5 Most-re viewed Beer Types',figsize= (12,8))\n",
    "labels = [3.5, 4.0, 4.5, 5.0]\n",
    "plt.yticks(labels)\n",
    "plt.ylim(3.5,5) \n",
    "plt.xticks(rotation = 35) \n",
    "plt.xlabel(\"Beer Type\") \n",
    "plt.ylabel(\"Rating\") \n",
    "plt.show()"
   ]
  },
  {
   "cell_type": "markdown",
   "metadata": {},
   "source": [
    "## Observation:\n",
    "From the bar chart above, we can see that \"American Double/Imperial Stout\" is the beer type that receives the highest review in all categories (appearance, palate, aroma, taste and overall)"
   ]
  },
  {
   "cell_type": "code",
   "execution_count": 13,
   "metadata": {},
   "outputs": [
    {
     "data": {
      "image/png": "[encoded data removed]",
      "text/plain": [
       "<Figure size 720x576 with 1 Axes>"
      ]
     },
     "metadata": {
      "needs_background": "light"
     },
     "output_type": "display_data"
    }
   ],
   "source": [
    "df_top_5['review/overall'].value_counts().sort_index().plot('bar',title = 'Overall Rating Distribution',figsize= (10,8), color='#1f77b4')\n",
    "plt.xticks(rotation = 0)\n",
    "plt.xlabel(\"Overall Rating\")\n",
    "plt.ylabel(\"Count\") \n",
    "plt.show()"
   ]
  },
  {
   "cell_type": "markdown",
   "metadata": {},
   "source": [
    "## Observation:\n",
    "From the bar chart above, we can see that people tend to give an overall rating of 4.0 for the 5 most-popular beer styles. This means that the most-reviewed beers also tend to receive a relatively high overall rating."
   ]
  },
  {
   "cell_type": "code",
   "execution_count": 14,
   "metadata": {},
   "outputs": [],
   "source": [
    "df_top_5 = df_top_5[['review/appearance', 'review/aroma', 'review/palate', 'review/taste', 'review/overall']]\n",
    "data = df_top_5.sample(frac=1) ## random shuffle the dataframe ( not in place)"
   ]
  },
  {
   "cell_type": "code",
   "execution_count": 15,
   "metadata": {},
   "outputs": [
    {
     "data": {
      "image/png": "[encoded data removed]",
      "text/plain": [
       "<Figure size 432x288 with 2 Axes>"
      ]
     },
     "metadata": {
      "needs_background": "light"
     },
     "output_type": "display_data"
    }
   ],
   "source": [
    "#Using Pearson Correlation plt.figure(figsize=(10,10))\n",
    "cor = data.corr()\n",
    "ax = sns.heatmap(cor, annot=True, cmap=plt.cm.Reds) \n",
    "ax.xaxis.set_ticks_position('top')\n",
    "loc, labels = plt.yticks() \n",
    "ax.set_yticklabels(labels, rotation=0)\n",
    "plt.show()"
   ]
  },
  {
   "cell_type": "markdown",
   "metadata": {},
   "source": [
    "## OBSERVATION:\n",
    "Based on the correlation matrix above, we can see that taste correlates the most (corr = 0.72) with the overall beer rating, meaning that taste is the most important feature of a beer."
   ]
  },
  {
   "cell_type": "markdown",
   "metadata": {},
   "source": [
    "## Part 2: Predictive Task\n",
    "\n",
    "### Predicting Overall Beer Rating from Taste, Appearance, Aroma and Palate Ratings\n",
    "\n",
    "- Data is split into train and test set (80:20 ratio)\n",
    "\n",
    "- Using the ratings for the four features (taste, appearance, aroma and palate), we will use first use linear regression to predict the overall rating for each beer style. This will serve as the baseline predictor that we will improve upon"
   ]
  },
  {
   "cell_type": "code",
   "execution_count": 16,
   "metadata": {},
   "outputs": [
    {
     "name": "stdout",
     "output_type": "stream",
     "text": [
      "100000 50000 50000\n"
     ]
    }
   ],
   "source": [
    "beer_dat = shuffle(beer_dat)\n",
    "\n",
    "#train-test split\n",
    "train_size = int(len(beer_dat)*float(0.5))\n",
    "valid_size = int(len(beer_dat)*float(0.25))\n",
    "test_size = int(len(beer_dat)*float(0.25))\n",
    "                 \n",
    "trainX = beer_dat[:train_size]\n",
    "trainY = beer_dat['review/overall'][:train_size] \n",
    "\n",
    "validX = beer_dat[train_size:train_size + valid_size]\n",
    "validY = beer_dat['review/overall'][train_size:train_size + valid_size]\n",
    "\n",
    "testX = beer_dat[(train_size + valid_size):(train_size + valid_size + test_size)] \n",
    "testY = beer_dat['review/overall'][(train_size + valid_size):(train_size + valid_size + test_size)]         \n",
    "\n",
    "print(len(trainX), len(validX), len(testX))"
   ]
  },
  {
   "cell_type": "code",
   "execution_count": 17,
   "metadata": {},
   "outputs": [],
   "source": [
    "# Create dictionary of top five beers to use for one hot encoding\n",
    "topfive = trainX['beer/style'].value_counts().index[:5]\n",
    "fivedict = dict(zip(topfive, [0, 1, 2, 3, 4]))\n",
    "\n",
    "def pick_feature(datum): \n",
    "    feat=[]\n",
    "    feat.append( datum['review/taste']) \n",
    "    feat.append( datum['review/palate']) \n",
    "    feat.append( datum['review/aroma']) \n",
    "    feat.append( datum['review/appearance'])\n",
    "    \n",
    "    \n",
    "    # one hot encoding for top 5 beer styles\n",
    "    empty = [0, 0, 0, 0, 0]\n",
    "    style = datum['beer/style']\n",
    "    if (style in topfive):\n",
    "        empty[fivedict[style]] = 1\n",
    "        \n",
    "    feat.extend(empty)\n",
    "    \n",
    "    return feat"
   ]
  },
  {
   "cell_type": "code",
   "execution_count": 18,
   "metadata": {},
   "outputs": [],
   "source": [
    "# Create training feature matrix\n",
    "train_feat = []\n",
    "for index, row in trainX.iterrows():\n",
    "    train_feat.append(pick_feature(row))\n",
    "    \n",
    "# Create valid feature matrix\n",
    "valid_feat = []\n",
    "for index, row in validX.iterrows():\n",
    "    valid_feat.append(pick_feature(row))"
   ]
  },
  {
   "cell_type": "code",
   "execution_count": 19,
   "metadata": {},
   "outputs": [
    {
     "name": "stdout",
     "output_type": "stream",
     "text": [
      "0.6500951187730601\n",
      "0.1677747253015267\n",
      "0.3074242095536989\n",
      "\n",
      "\n",
      "0.6520721517446488\n",
      "0.16757429530075726\n",
      "0.30686926211496984\n"
     ]
    }
   ],
   "source": [
    "model = LinearRegression()\n",
    "model.fit(train_feat, trainY)\n",
    "\n",
    "\n",
    "train_pred = model.predict(train_feat)\n",
    "#Returns the coefficient of determination R^2 of the prediction.\n",
    "print(model.score(train_feat, trainY))\n",
    "# Print MSE and MAE to compare\n",
    "print(mean_squared_error(trainY, train_pred))\n",
    "print(mean_absolute_error(trainY, train_pred))\n",
    "\n",
    "print('\\n')\n",
    "\n",
    "\n",
    "valid_pred = model.predict(valid_feat)\n",
    "#Returns the coefficient of determination R^2 of the prediction.\n",
    "print(model.score(valid_feat, validY))\n",
    "# Print MSE and MAE to compare\n",
    "print(mean_squared_error(validY, valid_pred))\n",
    "print(mean_absolute_error(validY, valid_pred))"
   ]
  },
  {
   "cell_type": "code",
   "execution_count": null,
   "metadata": {},
   "outputs": [],
   "source": []
  },
  {
   "cell_type": "code",
   "execution_count": null,
   "metadata": {},
   "outputs": [],
   "source": []
  },
  {
   "cell_type": "code",
   "execution_count": null,
   "metadata": {},
   "outputs": [],
   "source": []
  },
  {
   "cell_type": "code",
   "execution_count": 21,
   "metadata": {},
   "outputs": [
    {
     "data": {
      "text/plain": [
       "0.38662"
      ]
     },
     "execution_count": 21,
     "metadata": {},
     "output_type": "execute_result"
    }
   ],
   "source": [
    "#after predicting the overall beer rating, decide a threshold to calculate accuracy of beer prediction\n",
    "# ?!!!!!!!!\n",
    "# smaller than THRESHOLD === accurate prediction\n",
    "# for now, set threshold to be 0.4, given ratings range from 0 - 5\n",
    "\n",
    "threshold = 0.4\n",
    "diff = abs(testY - valid_pred)\n",
    "sum(diff <= threshold)/len(diff)"
   ]
  },
  {
   "cell_type": "code",
   "execution_count": 22,
   "metadata": {},
   "outputs": [
    {
     "data": {
      "text/plain": [
       "87534     0.794906\n",
       "175726    0.082180\n",
       "69598     0.344598\n",
       "17677     0.294757\n",
       "137256    0.612640\n",
       "118460    0.081822\n",
       "20585     0.415671\n",
       "142244    0.581616\n",
       "82546     0.153066\n",
       "6472      0.471246\n",
       "194044    0.410859\n",
       "153488    0.001766\n",
       "49106     0.452699\n",
       "163005    0.910859\n",
       "197726    0.266878\n",
       "120387    0.483517\n",
       "2747      1.713452\n",
       "112913    0.049776\n",
       "168616    0.276674\n",
       "163587    0.407462\n",
       "154977    0.082180\n",
       "133957    1.454320\n",
       "181771    1.710493\n",
       "27159     0.794757\n",
       "29765     0.006125\n",
       "134114    0.503650\n",
       "88223     0.664385\n",
       "64883     0.217811\n",
       "23798     0.483517\n",
       "57255     0.084350\n",
       "            ...   \n",
       "150965    0.854035\n",
       "198066    0.786548\n",
       "69541     0.168215\n",
       "149506    0.190844\n",
       "61636     1.364752\n",
       "88707     0.377001\n",
       "40519     0.971246\n",
       "119066    1.917820\n",
       "172271    0.008631\n",
       "78302     1.893042\n",
       "5654      0.051362\n",
       "79457     0.463036\n",
       "134890    0.436598\n",
       "167864    0.559214\n",
       "102496    0.291172\n",
       "72321     0.699033\n",
       "63970     0.710946\n",
       "213       0.399066\n",
       "144022    0.544795\n",
       "162960    0.319514\n",
       "102635    0.882378\n",
       "146631    0.960908\n",
       "108029    0.308381\n",
       "190053    0.415671\n",
       "171670    0.696884\n",
       "141133    1.232743\n",
       "50787     0.090032\n",
       "179361    0.006125\n",
       "164647    0.080594\n",
       "108775    0.667783\n",
       "Name: review/overall, Length: 50000, dtype: float64"
      ]
     },
     "execution_count": 22,
     "metadata": {},
     "output_type": "execute_result"
    }
   ],
   "source": [
    "diff"
   ]
  },
  {
   "cell_type": "code",
   "execution_count": null,
   "metadata": {},
   "outputs": [],
   "source": []
  }
 ],
 "metadata": {
  "kernelspec": {
   "display_name": "Python 3",
   "language": "python",
   "name": "python3"
  },
  "language_info": {
   "codemirror_mode": {
    "name": "ipython",
    "version": 3
   },
   "file_extension": ".py",
   "mimetype": "text/x-python",
   "name": "python",
   "nbconvert_exporter": "python",
   "pygments_lexer": "ipython3",
   "version": "3.7.1"
  }
 },
 "nbformat": 4,
 "nbformat_minor": 2
}
