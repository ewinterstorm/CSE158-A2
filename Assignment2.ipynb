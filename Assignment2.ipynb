{
 "cells": [
  {
   "cell_type": "markdown",
   "metadata": {},
   "source": [
    "Toan Bui A13599266\n",
    "<br>\n",
    "Kaylyn Han\n",
    "<br>\n",
    "Elise Wong A13026941"
   ]
  },
  {
   "cell_type": "code",
   "execution_count": 1,
   "metadata": {},
   "outputs": [],
   "source": [
    "import csv\n",
    "import gzip\n",
    "import pandas as pd\n",
    "import matplotlib.pyplot as plt\n",
    "import math\n",
    "import json\n",
    "import ast\n",
    "import seaborn as sns\n",
    "import sklearn.linear_model\n",
    "from sklearn.linear_model import LinearRegression\n",
    "from sklearn.linear_model import LogisticRegression\n",
    "from sklearn.metrics import mean_squared_error\n",
    "from sklearn.metrics import mean_absolute_error\n",
    "from sklearn.metrics import r2_score\n",
    "\n",
    "from numpy import cov\n",
    "from scipy.stats import pearsonr\n",
    "from sklearn.utils import shuffle\n",
    "import numpy as np\n",
    "from datetime import date"
   ]
  },
  {
   "cell_type": "code",
   "execution_count": 2,
   "metadata": {},
   "outputs": [],
   "source": [
    "def parseDataFromFile(fname):\n",
    "  for l in open(fname):\n",
    "    yield ast.literal_eval(l)\n",
    "    \n",
    "beer_dat = list(parseDataFromFile(\"beer_50000.json\"))"
   ]
  },
  {
   "cell_type": "code",
   "execution_count": 3,
   "metadata": {},
   "outputs": [],
   "source": [
    "beer_dat = pd.DataFrame(beer_dat)"
   ]
  },
  {
   "cell_type": "code",
   "execution_count": 4,
   "metadata": {},
   "outputs": [],
   "source": [
    "beer_dat = beer_dat.drop(columns=['beer/ABV','beer/beerId','beer/brewerId','beer/name',\n",
    "'user/ageInSeconds','user/gender','user/profileName','user/birthdayUnix',\n",
    "'user/birthdayRaw','review/timeUnix', 'review/timeStruct']).dropna() "
   ]
  },
  {
   "cell_type": "markdown",
   "metadata": {},
   "source": [
    "## Part 1: Exploratory Analysis on Beer Dataset"
   ]
  },
  {
   "cell_type": "code",
   "execution_count": 5,
   "metadata": {},
   "outputs": [
    {
     "data": {
      "text/html": [
       "<div>\n",
       "<style scoped>\n",
       "    .dataframe tbody tr th:only-of-type {\n",
       "        vertical-align: middle;\n",
       "    }\n",
       "\n",
       "    .dataframe tbody tr th {\n",
       "        vertical-align: top;\n",
       "    }\n",
       "\n",
       "    .dataframe thead th {\n",
       "        text-align: right;\n",
       "    }\n",
       "</style>\n",
       "<table border=\"1\" class=\"dataframe\">\n",
       "  <thead>\n",
       "    <tr style=\"text-align: right;\">\n",
       "      <th></th>\n",
       "      <th>beer/style</th>\n",
       "      <th>review/appearance</th>\n",
       "      <th>review/aroma</th>\n",
       "      <th>review/overall</th>\n",
       "      <th>review/palate</th>\n",
       "      <th>review/taste</th>\n",
       "      <th>review/text</th>\n",
       "    </tr>\n",
       "  </thead>\n",
       "  <tbody>\n",
       "    <tr>\n",
       "      <th>0</th>\n",
       "      <td>Hefeweizen</td>\n",
       "      <td>2.5</td>\n",
       "      <td>2.0</td>\n",
       "      <td>1.5</td>\n",
       "      <td>1.5</td>\n",
       "      <td>1.5</td>\n",
       "      <td>A lot of foam. But a lot.\\tIn the smell some b...</td>\n",
       "    </tr>\n",
       "    <tr>\n",
       "      <th>1</th>\n",
       "      <td>English Strong Ale</td>\n",
       "      <td>3.0</td>\n",
       "      <td>2.5</td>\n",
       "      <td>3.0</td>\n",
       "      <td>3.0</td>\n",
       "      <td>3.0</td>\n",
       "      <td>Dark red color, light beige foam, average.\\tIn...</td>\n",
       "    </tr>\n",
       "    <tr>\n",
       "      <th>2</th>\n",
       "      <td>Foreign / Export Stout</td>\n",
       "      <td>3.0</td>\n",
       "      <td>2.5</td>\n",
       "      <td>3.0</td>\n",
       "      <td>3.0</td>\n",
       "      <td>3.0</td>\n",
       "      <td>Almost totally black. Beige foam, quite compac...</td>\n",
       "    </tr>\n",
       "    <tr>\n",
       "      <th>3</th>\n",
       "      <td>German Pilsener</td>\n",
       "      <td>3.5</td>\n",
       "      <td>3.0</td>\n",
       "      <td>3.0</td>\n",
       "      <td>2.5</td>\n",
       "      <td>3.0</td>\n",
       "      <td>Golden yellow color. White, compact foam, quit...</td>\n",
       "    </tr>\n",
       "    <tr>\n",
       "      <th>4</th>\n",
       "      <td>American Double / Imperial IPA</td>\n",
       "      <td>4.0</td>\n",
       "      <td>4.5</td>\n",
       "      <td>4.0</td>\n",
       "      <td>4.0</td>\n",
       "      <td>4.5</td>\n",
       "      <td>According to the website, the style for the Ca...</td>\n",
       "    </tr>\n",
       "  </tbody>\n",
       "</table>\n",
       "</div>"
      ],
      "text/plain": [
       "                       beer/style  review/appearance  review/aroma  \\\n",
       "0                      Hefeweizen                2.5           2.0   \n",
       "1              English Strong Ale                3.0           2.5   \n",
       "2          Foreign / Export Stout                3.0           2.5   \n",
       "3                 German Pilsener                3.5           3.0   \n",
       "4  American Double / Imperial IPA                4.0           4.5   \n",
       "\n",
       "   review/overall  review/palate  review/taste  \\\n",
       "0             1.5            1.5           1.5   \n",
       "1             3.0            3.0           3.0   \n",
       "2             3.0            3.0           3.0   \n",
       "3             3.0            2.5           3.0   \n",
       "4             4.0            4.0           4.5   \n",
       "\n",
       "                                         review/text  \n",
       "0  A lot of foam. But a lot.\\tIn the smell some b...  \n",
       "1  Dark red color, light beige foam, average.\\tIn...  \n",
       "2  Almost totally black. Beige foam, quite compac...  \n",
       "3  Golden yellow color. White, compact foam, quit...  \n",
       "4  According to the website, the style for the Ca...  "
      ]
     },
     "execution_count": 5,
     "metadata": {},
     "output_type": "execute_result"
    }
   ],
   "source": [
    "beer_dat[:5]"
   ]
  },
  {
   "cell_type": "code",
   "execution_count": 6,
   "metadata": {},
   "outputs": [
    {
     "name": "stdout",
     "output_type": "stream",
     "text": [
      "The beer-review dataset contains 95 unique types of beer\n",
      "\n",
      "Here are 5 most-reviewed types of beer: \n"
     ]
    },
    {
     "data": {
      "text/html": [
       "<div>\n",
       "<style scoped>\n",
       "    .dataframe tbody tr th:only-of-type {\n",
       "        vertical-align: middle;\n",
       "    }\n",
       "\n",
       "    .dataframe tbody tr th {\n",
       "        vertical-align: top;\n",
       "    }\n",
       "\n",
       "    .dataframe thead th {\n",
       "        text-align: right;\n",
       "    }\n",
       "</style>\n",
       "<table border=\"1\" class=\"dataframe\">\n",
       "  <thead>\n",
       "    <tr style=\"text-align: right;\">\n",
       "      <th></th>\n",
       "      <th>NUMBER OF REVIEWS</th>\n",
       "    </tr>\n",
       "  </thead>\n",
       "  <tbody>\n",
       "    <tr>\n",
       "      <th>American Double / Imperial Stout</th>\n",
       "      <td>5964</td>\n",
       "    </tr>\n",
       "    <tr>\n",
       "      <th>American IPA</th>\n",
       "      <td>4113</td>\n",
       "    </tr>\n",
       "    <tr>\n",
       "      <th>American Double / Imperial IPA</th>\n",
       "      <td>3886</td>\n",
       "    </tr>\n",
       "    <tr>\n",
       "      <th>Scotch Ale / Wee Heavy</th>\n",
       "      <td>2776</td>\n",
       "    </tr>\n",
       "    <tr>\n",
       "      <th>Russian Imperial Stout</th>\n",
       "      <td>2695</td>\n",
       "    </tr>\n",
       "  </tbody>\n",
       "</table>\n",
       "</div>"
      ],
      "text/plain": [
       "                                  NUMBER OF REVIEWS\n",
       "American Double / Imperial Stout               5964\n",
       "American IPA                                   4113\n",
       "American Double / Imperial IPA                 3886\n",
       "Scotch Ale / Wee Heavy                         2776\n",
       "Russian Imperial Stout                         2695"
      ]
     },
     "execution_count": 6,
     "metadata": {},
     "output_type": "execute_result"
    }
   ],
   "source": [
    "print(\"The beer-review dataset contains \" + str(len(beer_dat['beer/style'].unique())) + \" unique types of beer\\n\")\n",
    "print(\"Here are 5 most-reviewed types of beer: \")\n",
    "top_5_beer = beer_dat['beer/style'].value_counts().head(5).to_frame() \n",
    "top_5_beer.columns = ['NUMBER OF REVIEWS']\n",
    "top_5_beer"
   ]
  },
  {
   "cell_type": "code",
   "execution_count": 7,
   "metadata": {},
   "outputs": [],
   "source": [
    "to_contain = 'American Double / Imperial Stout|American IPA|American Double / Imperial IPA|Scotch Ale / Wee Heavy|Russian Imperial Stout'\n",
    "df_top_5 = beer_dat[beer_dat['beer/style'].str.contains(to_contain , na=False)]"
   ]
  },
  {
   "cell_type": "code",
   "execution_count": 8,
   "metadata": {},
   "outputs": [],
   "source": [
    "df_top_5 = df_top_5.sort_values(by=['beer/style']) \n",
    "df_top_5 = df_top_5.reset_index() \n",
    "df_top_5.drop('index', axis=1, inplace=True)\n",
    "\n",
    "beer_styles = ['American Double / Imperial Stout', 'American IPA', 'American Double / Imperial IPA','Scotch Ale / Wee Heavy','Russian Imperial Stout']\n",
    "beer_ratings = [0,0,0,0,0]\n",
    "appearance_rating_dict = dict(zip(beer_styles,beer_ratings)) \n",
    "palate_rating_dict = dict(zip(beer_styles,beer_ratings)) \n",
    "aroma_rating_dict = dict(zip(beer_styles,beer_ratings)) \n",
    "taste_rating_dict = dict(zip(beer_styles,beer_ratings)) \n",
    "overall_rating_dict = dict(zip(beer_styles,beer_ratings))\n",
    "\n",
    "for style in beer_styles:\n",
    "    appearance_rating_dict[style] = round(df_top_5[df_top_5['beer/style'] == style]['review/appearance'].mean(),2) \n",
    "    palate_rating_dict[style] = round(df_top_5[df_top_5['beer/style']== style]['review/palate'].mean(),2)\n",
    "    aroma_rating_dict[style] = round(df_top_5[df_top_5['beer/style'] == style]['review/aroma'].mean(),2)\n",
    "    taste_rating_dict[style] = round(df_top_5[df_top_5['beer/style'] == style]['review/taste'].mean(),2)\n",
    "    overall_rating_dict[style] = round(df_top_5[df_top_5['beer/style']== style]['review/overall'].mean(),2)\n",
    "    \n",
    "appearance_rating_df = pd.Series(appearance_rating_dict).to_frame() \n",
    "palate_rating_df = pd.Series(palate_rating_dict).to_frame() \n",
    "aroma_rating_df = pd.Series(aroma_rating_dict).to_frame() \n",
    "taste_rating_df = pd.Series(taste_rating_dict).to_frame() \n",
    "overall_rating_df = pd.Series(overall_rating_dict).to_frame()"
   ]
  },
  {
   "cell_type": "code",
   "execution_count": 9,
   "metadata": {},
   "outputs": [
    {
     "name": "stdout",
     "output_type": "stream",
     "text": [
      "\n",
      "An Overview of the Ratings for the 5 Most-reviewed Beer Types \n"
     ]
    },
    {
     "data": {
      "text/html": [
       "<div>\n",
       "<style scoped>\n",
       "    .dataframe tbody tr th:only-of-type {\n",
       "        vertical-align: middle;\n",
       "    }\n",
       "\n",
       "    .dataframe tbody tr th {\n",
       "        vertical-align: top;\n",
       "    }\n",
       "\n",
       "    .dataframe thead th {\n",
       "        text-align: right;\n",
       "    }\n",
       "</style>\n",
       "<table border=\"1\" class=\"dataframe\">\n",
       "  <thead>\n",
       "    <tr style=\"text-align: right;\">\n",
       "      <th></th>\n",
       "      <th>Appearance Rating</th>\n",
       "      <th>Palate Rating</th>\n",
       "      <th>Aroma Rating</th>\n",
       "      <th>Taste Rating</th>\n",
       "      <th>Overall Rating</th>\n",
       "    </tr>\n",
       "  </thead>\n",
       "  <tbody>\n",
       "    <tr>\n",
       "      <th>American Double / Imperial Stout</th>\n",
       "      <td>4.32</td>\n",
       "      <td>4.35</td>\n",
       "      <td>4.41</td>\n",
       "      <td>4.48</td>\n",
       "      <td>4.33</td>\n",
       "    </tr>\n",
       "    <tr>\n",
       "      <th>American IPA</th>\n",
       "      <td>3.98</td>\n",
       "      <td>3.92</td>\n",
       "      <td>3.97</td>\n",
       "      <td>4.00</td>\n",
       "      <td>4.04</td>\n",
       "    </tr>\n",
       "    <tr>\n",
       "      <th>American Double / Imperial IPA</th>\n",
       "      <td>3.99</td>\n",
       "      <td>3.98</td>\n",
       "      <td>4.07</td>\n",
       "      <td>4.03</td>\n",
       "      <td>3.87</td>\n",
       "    </tr>\n",
       "    <tr>\n",
       "      <th>Scotch Ale / Wee Heavy</th>\n",
       "      <td>3.92</td>\n",
       "      <td>3.96</td>\n",
       "      <td>4.00</td>\n",
       "      <td>4.08</td>\n",
       "      <td>3.92</td>\n",
       "    </tr>\n",
       "    <tr>\n",
       "      <th>Russian Imperial Stout</th>\n",
       "      <td>4.21</td>\n",
       "      <td>4.29</td>\n",
       "      <td>4.17</td>\n",
       "      <td>4.30</td>\n",
       "      <td>4.16</td>\n",
       "    </tr>\n",
       "  </tbody>\n",
       "</table>\n",
       "</div>"
      ],
      "text/plain": [
       "                                  Appearance Rating  Palate Rating  \\\n",
       "American Double / Imperial Stout               4.32           4.35   \n",
       "American IPA                                   3.98           3.92   \n",
       "American Double / Imperial IPA                 3.99           3.98   \n",
       "Scotch Ale / Wee Heavy                         3.92           3.96   \n",
       "Russian Imperial Stout                         4.21           4.29   \n",
       "\n",
       "                                  Aroma Rating  Taste Rating  Overall Rating  \n",
       "American Double / Imperial Stout          4.41          4.48            4.33  \n",
       "American IPA                              3.97          4.00            4.04  \n",
       "American Double / Imperial IPA            4.07          4.03            3.87  \n",
       "Scotch Ale / Wee Heavy                    4.00          4.08            3.92  \n",
       "Russian Imperial Stout                    4.17          4.30            4.16  "
      ]
     },
     "execution_count": 9,
     "metadata": {},
     "output_type": "execute_result"
    }
   ],
   "source": [
    "appearance_rating_df.columns = ['Appearance Rating'] \n",
    "palate_rating_df.columns = ['Palate Rating'] \n",
    "aroma_rating_df.columns = ['Aroma Rating'] \n",
    "taste_rating_df.columns = ['Taste Rating'] \n",
    "overall_rating_df.columns = ['Overall Rating']\n",
    "\n",
    "ratings_df = pd.concat([appearance_rating_df, palate_rating_df], axis= 1, join='inner')\n",
    "ratings_df = pd.concat([ratings_df, aroma_rating_df], axis=1, join='inner')\n",
    "ratings_df = pd.concat([ratings_df, taste_rating_df], axis=1, join='inner')\n",
    "ratings_df = pd.concat([ratings_df, overall_rating_df], axis=1, join='inner')\n",
    "\n",
    "print(\"\\nAn Overview of the Ratings for the 5 Most-reviewed Beer Types \")\n",
    "#The dataframe that contains all the individual ratings ratings_df ## THIS CONTAINS THE AVERAGE RATINGS\n",
    "\n",
    "ratings_df"
   ]
  },
  {
   "cell_type": "code",
   "execution_count": 10,
   "metadata": {},
   "outputs": [
    {
     "data": {
      "image/png": "[encoded data removed]",
      "text/plain": [
       "<Figure size 864x576 with 1 Axes>"
      ]
     },
     "metadata": {
      "needs_background": "light"
     },
     "output_type": "display_data"
    }
   ],
   "source": [
    "ratings_df.plot.bar(title = 'Overview of the Ratings for the 5 Most-re viewed Beer Types',figsize= (12,8))\n",
    "labels = [3.5, 4.0, 4.5, 5.0]\n",
    "plt.yticks(labels)\n",
    "plt.ylim(3.5,5) \n",
    "plt.xticks(rotation = 35) \n",
    "plt.xlabel(\"Beer Type\") \n",
    "plt.ylabel(\"Rating\") \n",
    "plt.show()"
   ]
  },
  {
   "cell_type": "markdown",
   "metadata": {},
   "source": [
    "## Observation:\n",
    "From the bar chart above, we can see that \"American Double/Imperial Stout\" is the beer type that receives the highest review in all categories (appearance, palate, aroma, taste and overall)"
   ]
  },
  {
   "cell_type": "code",
   "execution_count": 11,
   "metadata": {},
   "outputs": [
    {
     "data": {
      "image/png": "[encoded data removed]",
      "text/plain": [
       "<Figure size 720x576 with 1 Axes>"
      ]
     },
     "metadata": {
      "needs_background": "light"
     },
     "output_type": "display_data"
    }
   ],
   "source": [
    "df_top_5['review/overall'].value_counts().sort_index().plot('bar',title = 'Overall Rating Distribution',figsize= (10,8))\n",
    "plt.xticks(rotation = 0)\n",
    "plt.xlabel(\"Overall Rating\")\n",
    "plt.ylabel(\"Count\") \n",
    "plt.show()"
   ]
  },
  {
   "cell_type": "markdown",
   "metadata": {},
   "source": [
    "## Observation:\n",
    "From the bar chart above, we can see that people tend to give an overall rating of 4.0 for the 5 most-popular beer styles. This means that the most-reviewed beers also tend to receive a relatively high overall rating."
   ]
  },
  {
   "cell_type": "code",
   "execution_count": 12,
   "metadata": {},
   "outputs": [],
   "source": [
    "df_top_5 = df_top_5.drop(columns=['review/text'])\n",
    "df_top_5.columns = ['Style', 'Appearance', 'Aroma', 'OVERALL', 'Palate', 'Taste']\n",
    "df_top_5 = df_top_5[['Style', 'Appearance', 'Aroma','Palate', 'Taste', 'OVERALL', ]]\n",
    "data = df_top_5.sample(frac=1) ## random shuffle the dataframe ( not in place)"
   ]
  },
  {
   "cell_type": "code",
   "execution_count": 13,
   "metadata": {},
   "outputs": [
    {
     "data": {
      "image/png": "[encoded data removed]",
      "text/plain": [
       "<Figure size 432x288 with 2 Axes>"
      ]
     },
     "metadata": {
      "needs_background": "light"
     },
     "output_type": "display_data"
    }
   ],
   "source": [
    "#Using Pearson Correlation plt.figure(figsize=(10,10))\n",
    "cor = data.corr()\n",
    "ax = sns.heatmap(cor, annot=True, cmap=plt.cm.Reds) \n",
    "ax.xaxis.set_ticks_position('top')\n",
    "loc, labels = plt.yticks() \n",
    "ax.set_yticklabels(labels, rotation=0)\n",
    "plt.show()"
   ]
  },
  {
   "cell_type": "markdown",
   "metadata": {},
   "source": [
    "## OBSERVATION:\n",
    "Based on the correlation matrix above, we can see that taste correlates the most (corr = 0.72) with the overall beer rating, meaning that taste is the most important feature of a beer."
   ]
  },
  {
   "cell_type": "markdown",
   "metadata": {},
   "source": [
    "## Part 2: Predictive Task\n",
    "\n",
    "### Predicting Overall Beer Rating from Taste, Appearance, Aroma and Palate Ratings\n",
    "\n",
    "- Data is split into train and test set (80:20 ratio)\n",
    "\n",
    "- Using the ratings for the four features (taste, appearance, aroma and palate), we will use first use linear regression to predict the overall rating for each beer style. This will serve as the baseline predictor that we will improve upon"
   ]
  },
  {
   "cell_type": "code",
   "execution_count": 14,
   "metadata": {},
   "outputs": [],
   "source": [
    "def pick_feature(datum): \n",
    "    feat=[]\n",
    "    feat.append( datum['Taste']) \n",
    "    feat.append( datum['Appearance']) \n",
    "    feat.append( datum['Aroma']) \n",
    "    feat.append( datum['Palate']) \n",
    "    return feat"
   ]
  },
  {
   "cell_type": "code",
   "execution_count": 15,
   "metadata": {},
   "outputs": [],
   "source": [
    "x = [] \n",
    "y = []\n",
    "for index, row in data.iterrows():\n",
    "    x.append(pick_feature(row))\n",
    "    y.append(row['OVERALL'])"
   ]
  },
  {
   "cell_type": "code",
   "execution_count": 16,
   "metadata": {},
   "outputs": [],
   "source": [
    "#train-test split\n",
    "test_size = int(len(x)*float(0.2))\n",
    "train_size = int(len(x)*float(0.8))\n",
    "                 \n",
    "trainX = x[ :train_size] \n",
    "trainY = y[ :train_size] \n",
    "\n",
    "testX = x[-test_size:] \n",
    "testY = y[-test_size:]                 "
   ]
  },
  {
   "cell_type": "code",
   "execution_count": 17,
   "metadata": {},
   "outputs": [],
   "source": [
    "model = LinearRegression()\n",
    "model.fit(trainX, trainY)\n",
    "pred = model.predict(testX)"
   ]
  },
  {
   "cell_type": "code",
   "execution_count": 18,
   "metadata": {},
   "outputs": [
    {
     "data": {
      "text/plain": [
       "0.5695356797771902"
      ]
     },
     "execution_count": 18,
     "metadata": {},
     "output_type": "execute_result"
    }
   ],
   "source": [
    "#Returns the coefficient of determination R^2 of the prediction.\n",
    "model.score(trainX, trainY)"
   ]
  },
  {
   "cell_type": "code",
   "execution_count": 19,
   "metadata": {},
   "outputs": [
    {
     "data": {
      "text/plain": [
       "0.7287699433865157"
      ]
     },
     "execution_count": 19,
     "metadata": {},
     "output_type": "execute_result"
    }
   ],
   "source": [
    "#after predicting the overall beer rating, decide a threshold to calculate accuracy of beer prediction\n",
    "# ?!!!!!!!!\n",
    "# smaller than THRESHOLD === accurate prediction\n",
    "# for now, set threshold to be 0.4, given ratings range from 0 - 5\n",
    "\n",
    "threshold = 0.4\n",
    "diff = abs(testY - pred)\n",
    "sum(diff <= threshold)/len(diff)"
   ]
  },
  {
   "cell_type": "code",
   "execution_count": 20,
   "metadata": {},
   "outputs": [
    {
     "data": {
      "text/plain": [
       "array([0.03411957, 0.26234221, 0.10617804, ..., 0.27871195, 0.51540076,\n",
       "       0.56405856])"
      ]
     },
     "execution_count": 20,
     "metadata": {},
     "output_type": "execute_result"
    }
   ],
   "source": [
    "diff"
   ]
  },
  {
   "cell_type": "code",
   "execution_count": null,
   "metadata": {},
   "outputs": [],
   "source": []
  }
 ],
 "metadata": {
  "kernelspec": {
   "display_name": "Python 3",
   "language": "python",
   "name": "python3"
  },
  "language_info": {
   "codemirror_mode": {
    "name": "ipython",
    "version": 3
   },
   "file_extension": ".py",
   "mimetype": "text/x-python",
   "name": "python",
   "nbconvert_exporter": "python",
   "pygments_lexer": "ipython3",
   "version": "3.7.3"
  }
 },
 "nbformat": 4,
 "nbformat_minor": 2
}
