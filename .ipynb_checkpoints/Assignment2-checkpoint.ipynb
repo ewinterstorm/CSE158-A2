{
 "cells": [
  {
   "cell_type": "markdown",
   "metadata": {},
   "source": [
    "Toan Bui\n",
    "<br>\n",
    "Kaylyn Han\n",
    "<br>\n",
    "Elise Wong A13026941"
   ]
  },
  {
   "cell_type": "code",
   "execution_count": 1,
   "metadata": {},
   "outputs": [],
   "source": [
    "import csv\n",
    "import gzip\n",
    "import pandas as pd\n",
    "import matplotlib.pyplot as plt\n",
    "import math"
   ]
  },
  {
   "cell_type": "code",
   "execution_count": 2,
   "metadata": {},
   "outputs": [
    {
     "name": "stdout",
     "output_type": "stream",
     "text": [
      "1434052\n"
     ]
    },
    {
     "data": {
      "text/html": [
       "<div>\n",
       "<style scoped>\n",
       "    .dataframe tbody tr th:only-of-type {\n",
       "        vertical-align: middle;\n",
       "    }\n",
       "\n",
       "    .dataframe tbody tr th {\n",
       "        vertical-align: top;\n",
       "    }\n",
       "\n",
       "    .dataframe thead th {\n",
       "        text-align: right;\n",
       "    }\n",
       "</style>\n",
       "<table border=\"1\" class=\"dataframe\">\n",
       "  <thead>\n",
       "    <tr style=\"text-align: right;\">\n",
       "      <th></th>\n",
       "      <th>id</th>\n",
       "      <th>listing_id</th>\n",
       "      <th>reviewer_id</th>\n",
       "      <th>date</th>\n",
       "      <th>reviewer_name</th>\n",
       "      <th>comments</th>\n",
       "    </tr>\n",
       "  </thead>\n",
       "  <tbody>\n",
       "    <tr>\n",
       "      <th>0</th>\n",
       "      <td>30672</td>\n",
       "      <td>11551</td>\n",
       "      <td>93896</td>\n",
       "      <td>2010-03-21</td>\n",
       "      <td>Shar-Lyn</td>\n",
       "      <td>The flat was bright, comfortable and clean and...</td>\n",
       "    </tr>\n",
       "    <tr>\n",
       "      <th>1</th>\n",
       "      <td>32236</td>\n",
       "      <td>11551</td>\n",
       "      <td>97890</td>\n",
       "      <td>2010-03-29</td>\n",
       "      <td>Zane</td>\n",
       "      <td>We stayed with Adriano and Valerio for a week ...</td>\n",
       "    </tr>\n",
       "    <tr>\n",
       "      <th>2</th>\n",
       "      <td>41044</td>\n",
       "      <td>11551</td>\n",
       "      <td>104133</td>\n",
       "      <td>2010-05-09</td>\n",
       "      <td>Chase</td>\n",
       "      <td>Adriano was a fantastic host. We felt very at ...</td>\n",
       "    </tr>\n",
       "    <tr>\n",
       "      <th>3</th>\n",
       "      <td>48926</td>\n",
       "      <td>11551</td>\n",
       "      <td>122714</td>\n",
       "      <td>2010-06-01</td>\n",
       "      <td>John &amp; Sylvia</td>\n",
       "      <td>We had a most wonderful stay with Adriano and ...</td>\n",
       "    </tr>\n",
       "    <tr>\n",
       "      <th>4</th>\n",
       "      <td>58352</td>\n",
       "      <td>11551</td>\n",
       "      <td>111543</td>\n",
       "      <td>2010-06-28</td>\n",
       "      <td>Monique</td>\n",
       "      <td>I'm not sure which of us misunderstood the s...</td>\n",
       "    </tr>\n",
       "  </tbody>\n",
       "</table>\n",
       "</div>"
      ],
      "text/plain": [
       "      id listing_id reviewer_id        date  reviewer_name  \\\n",
       "0  30672      11551       93896  2010-03-21       Shar-Lyn   \n",
       "1  32236      11551       97890  2010-03-29           Zane   \n",
       "2  41044      11551      104133  2010-05-09          Chase   \n",
       "3  48926      11551      122714  2010-06-01  John & Sylvia   \n",
       "4  58352      11551      111543  2010-06-28        Monique   \n",
       "\n",
       "                                            comments  \n",
       "0  The flat was bright, comfortable and clean and...  \n",
       "1  We stayed with Adriano and Valerio for a week ...  \n",
       "2  Adriano was a fantastic host. We felt very at ...  \n",
       "3  We had a most wonderful stay with Adriano and ...  \n",
       "4    I'm not sure which of us misunderstood the s...  "
      ]
     },
     "execution_count": 2,
     "metadata": {},
     "output_type": "execute_result"
    }
   ],
   "source": [
    "# Read in review data\n",
    "f = csv.reader(gzip.open('London/reviews.csv.gz', 'rt'), delimiter = ',')\n",
    "\n",
    "data = []\n",
    "first = True\n",
    "for line in f:\n",
    "    if first:\n",
    "        header = line\n",
    "        first = False\n",
    "    else:\n",
    "        d = dict(zip(header, line))\n",
    "        data.append(d)\n",
    "\n",
    "review_df = pd.DataFrame(data)\n",
    "\n",
    "# Re-order columns\n",
    "review_df = review_df[['id', 'listing_id', 'reviewer_id', 'date', 'reviewer_name', 'comments']]\n",
    "\n",
    "print(len(review_df))\n",
    "review_df.head()"
   ]
  },
  {
   "cell_type": "code",
   "execution_count": 3,
   "metadata": {},
   "outputs": [
    {
     "data": {
      "text/plain": [
       "['access',\n",
       " 'accommodates',\n",
       " 'amenities',\n",
       " 'availability_30',\n",
       " 'availability_365',\n",
       " 'availability_60',\n",
       " 'availability_90',\n",
       " 'bathrooms',\n",
       " 'bed_type',\n",
       " 'bedrooms',\n",
       " 'beds',\n",
       " 'calculated_host_listings_count',\n",
       " 'calculated_host_listings_count_entire_homes',\n",
       " 'calculated_host_listings_count_private_rooms',\n",
       " 'calculated_host_listings_count_shared_rooms',\n",
       " 'calendar_last_scraped',\n",
       " 'calendar_updated',\n",
       " 'cancellation_policy',\n",
       " 'city',\n",
       " 'cleaning_fee',\n",
       " 'country',\n",
       " 'country_code',\n",
       " 'description',\n",
       " 'experiences_offered',\n",
       " 'extra_people',\n",
       " 'first_review',\n",
       " 'guests_included',\n",
       " 'has_availability',\n",
       " 'host_about',\n",
       " 'host_acceptance_rate',\n",
       " 'host_has_profile_pic',\n",
       " 'host_id',\n",
       " 'host_identity_verified',\n",
       " 'host_is_superhost',\n",
       " 'host_listings_count',\n",
       " 'host_location',\n",
       " 'host_name',\n",
       " 'host_neighbourhood',\n",
       " 'host_picture_url',\n",
       " 'host_response_rate',\n",
       " 'host_response_time',\n",
       " 'host_since',\n",
       " 'host_thumbnail_url',\n",
       " 'host_total_listings_count',\n",
       " 'host_url',\n",
       " 'host_verifications',\n",
       " 'house_rules',\n",
       " 'id',\n",
       " 'instant_bookable',\n",
       " 'interaction',\n",
       " 'is_business_travel_ready',\n",
       " 'is_location_exact',\n",
       " 'jurisdiction_names',\n",
       " 'last_review',\n",
       " 'last_scraped',\n",
       " 'latitude',\n",
       " 'license',\n",
       " 'listing_url',\n",
       " 'longitude',\n",
       " 'market',\n",
       " 'maximum_maximum_nights',\n",
       " 'maximum_minimum_nights',\n",
       " 'maximum_nights',\n",
       " 'maximum_nights_avg_ntm',\n",
       " 'medium_url',\n",
       " 'minimum_maximum_nights',\n",
       " 'minimum_minimum_nights',\n",
       " 'minimum_nights',\n",
       " 'minimum_nights_avg_ntm',\n",
       " 'monthly_price',\n",
       " 'name',\n",
       " 'neighborhood_overview',\n",
       " 'neighbourhood',\n",
       " 'neighbourhood_cleansed',\n",
       " 'neighbourhood_group_cleansed',\n",
       " 'notes',\n",
       " 'number_of_reviews',\n",
       " 'number_of_reviews_ltm',\n",
       " 'picture_url',\n",
       " 'price',\n",
       " 'property_type',\n",
       " 'require_guest_phone_verification',\n",
       " 'require_guest_profile_picture',\n",
       " 'requires_license',\n",
       " 'review_scores_accuracy',\n",
       " 'review_scores_checkin',\n",
       " 'review_scores_cleanliness',\n",
       " 'review_scores_communication',\n",
       " 'review_scores_location',\n",
       " 'review_scores_rating',\n",
       " 'review_scores_value',\n",
       " 'reviews_per_month',\n",
       " 'room_type',\n",
       " 'scrape_id',\n",
       " 'security_deposit',\n",
       " 'smart_location',\n",
       " 'space',\n",
       " 'square_feet',\n",
       " 'state',\n",
       " 'street',\n",
       " 'summary',\n",
       " 'thumbnail_url',\n",
       " 'transit',\n",
       " 'weekly_price',\n",
       " 'xl_picture_url',\n",
       " 'zipcode']"
      ]
     },
     "execution_count": 3,
     "metadata": {},
     "output_type": "execute_result"
    }
   ],
   "source": [
    "# Read in listing data\n",
    "f = csv.reader(gzip.open('London/listings.csv.gz', 'rt'), delimiter = ',')\n",
    "\n",
    "data = []\n",
    "first = True\n",
    "for line in f:\n",
    "    if first:\n",
    "        header = line\n",
    "        first = False\n",
    "    else:\n",
    "        d = dict(zip(header, line))\n",
    "        data.append(d)        \n",
    "\n",
    "listing_df = pd.DataFrame(data)\n",
    "list(listing_df.columns)"
   ]
  },
  {
   "cell_type": "code",
   "execution_count": 4,
   "metadata": {},
   "outputs": [
    {
     "name": "stdout",
     "output_type": "stream",
     "text": [
      "(85273, 16)\n"
     ]
    },
    {
     "data": {
      "text/html": [
       "<div>\n",
       "<style scoped>\n",
       "    .dataframe tbody tr th:only-of-type {\n",
       "        vertical-align: middle;\n",
       "    }\n",
       "\n",
       "    .dataframe tbody tr th {\n",
       "        vertical-align: top;\n",
       "    }\n",
       "\n",
       "    .dataframe thead th {\n",
       "        text-align: right;\n",
       "    }\n",
       "</style>\n",
       "<table border=\"1\" class=\"dataframe\">\n",
       "  <thead>\n",
       "    <tr style=\"text-align: right;\">\n",
       "      <th></th>\n",
       "      <th>id</th>\n",
       "      <th>name</th>\n",
       "      <th>host_id</th>\n",
       "      <th>host_name</th>\n",
       "      <th>neighbourhood</th>\n",
       "      <th>review_scores_rating</th>\n",
       "      <th>latitude</th>\n",
       "      <th>longitude</th>\n",
       "      <th>room_type</th>\n",
       "      <th>price</th>\n",
       "      <th>minimum_nights</th>\n",
       "      <th>number_of_reviews</th>\n",
       "      <th>last_review</th>\n",
       "      <th>reviews_per_month</th>\n",
       "      <th>calculated_host_listings_count</th>\n",
       "      <th>availability_365</th>\n",
       "    </tr>\n",
       "  </thead>\n",
       "  <tbody>\n",
       "    <tr>\n",
       "      <th>0</th>\n",
       "      <td>11551</td>\n",
       "      <td>Arty and Bright London Apartment in Zone 2</td>\n",
       "      <td>43039</td>\n",
       "      <td>Adriano</td>\n",
       "      <td>Brixton</td>\n",
       "      <td>92</td>\n",
       "      <td>51.46225</td>\n",
       "      <td>-0.11732</td>\n",
       "      <td>Entire home/apt</td>\n",
       "      <td>$88.00</td>\n",
       "      <td>2</td>\n",
       "      <td>184</td>\n",
       "      <td>2019-07-10</td>\n",
       "      <td>1.59</td>\n",
       "      <td>2</td>\n",
       "      <td>344</td>\n",
       "    </tr>\n",
       "    <tr>\n",
       "      <th>1</th>\n",
       "      <td>13913</td>\n",
       "      <td>Holiday London DB Room Let-on going</td>\n",
       "      <td>54730</td>\n",
       "      <td>Alina</td>\n",
       "      <td>LB of Islington</td>\n",
       "      <td>96</td>\n",
       "      <td>51.56802</td>\n",
       "      <td>-0.11121</td>\n",
       "      <td>Private room</td>\n",
       "      <td>$65.00</td>\n",
       "      <td>1</td>\n",
       "      <td>16</td>\n",
       "      <td>2019-06-10</td>\n",
       "      <td>0.14</td>\n",
       "      <td>3</td>\n",
       "      <td>353</td>\n",
       "    </tr>\n",
       "    <tr>\n",
       "      <th>2</th>\n",
       "      <td>15400</td>\n",
       "      <td>Bright Chelsea  Apartment. Chelsea!</td>\n",
       "      <td>60302</td>\n",
       "      <td>Philippa</td>\n",
       "      <td>Chelsea</td>\n",
       "      <td>96</td>\n",
       "      <td>51.48796</td>\n",
       "      <td>-0.16898</td>\n",
       "      <td>Entire home/apt</td>\n",
       "      <td>$100.00</td>\n",
       "      <td>30</td>\n",
       "      <td>87</td>\n",
       "      <td>2019-08-27</td>\n",
       "      <td>0.73</td>\n",
       "      <td>1</td>\n",
       "      <td>114</td>\n",
       "    </tr>\n",
       "    <tr>\n",
       "      <th>3</th>\n",
       "      <td>17402</td>\n",
       "      <td>Superb 3-Bed/2 Bath &amp; Wifi: Trendy W1</td>\n",
       "      <td>67564</td>\n",
       "      <td>Liz</td>\n",
       "      <td>City of Westminster</td>\n",
       "      <td>94</td>\n",
       "      <td>51.52098</td>\n",
       "      <td>-0.14002</td>\n",
       "      <td>Entire home/apt</td>\n",
       "      <td>$300.00</td>\n",
       "      <td>3</td>\n",
       "      <td>41</td>\n",
       "      <td>2019-06-19</td>\n",
       "      <td>0.40</td>\n",
       "      <td>15</td>\n",
       "      <td>265</td>\n",
       "    </tr>\n",
       "    <tr>\n",
       "      <th>4</th>\n",
       "      <td>24328</td>\n",
       "      <td>Battersea bedroom &amp; office w parking shared ga...</td>\n",
       "      <td>41759</td>\n",
       "      <td>Joe</td>\n",
       "      <td>LB of Wandsworth</td>\n",
       "      <td>98</td>\n",
       "      <td>51.47298</td>\n",
       "      <td>-0.16376</td>\n",
       "      <td>Entire home/apt</td>\n",
       "      <td>$175.00</td>\n",
       "      <td>30</td>\n",
       "      <td>93</td>\n",
       "      <td>2019-06-08</td>\n",
       "      <td>0.86</td>\n",
       "      <td>1</td>\n",
       "      <td>346</td>\n",
       "    </tr>\n",
       "  </tbody>\n",
       "</table>\n",
       "</div>"
      ],
      "text/plain": [
       "      id                                               name host_id host_name  \\\n",
       "0  11551         Arty and Bright London Apartment in Zone 2   43039   Adriano   \n",
       "1  13913                Holiday London DB Room Let-on going   54730     Alina   \n",
       "2  15400                Bright Chelsea  Apartment. Chelsea!   60302  Philippa   \n",
       "3  17402              Superb 3-Bed/2 Bath & Wifi: Trendy W1   67564       Liz   \n",
       "4  24328  Battersea bedroom & office w parking shared ga...   41759       Joe   \n",
       "\n",
       "         neighbourhood review_scores_rating  latitude longitude  \\\n",
       "0              Brixton                   92  51.46225  -0.11732   \n",
       "1      LB of Islington                   96  51.56802  -0.11121   \n",
       "2              Chelsea                   96  51.48796  -0.16898   \n",
       "3  City of Westminster                   94  51.52098  -0.14002   \n",
       "4     LB of Wandsworth                   98  51.47298  -0.16376   \n",
       "\n",
       "         room_type    price minimum_nights number_of_reviews last_review  \\\n",
       "0  Entire home/apt   $88.00              2               184  2019-07-10   \n",
       "1     Private room   $65.00              1                16  2019-06-10   \n",
       "2  Entire home/apt  $100.00             30                87  2019-08-27   \n",
       "3  Entire home/apt  $300.00              3                41  2019-06-19   \n",
       "4  Entire home/apt  $175.00             30                93  2019-06-08   \n",
       "\n",
       "  reviews_per_month calculated_host_listings_count availability_365  \n",
       "0              1.59                              2              344  \n",
       "1              0.14                              3              353  \n",
       "2              0.73                              1              114  \n",
       "3              0.40                             15              265  \n",
       "4              0.86                              1              346  "
      ]
     },
     "execution_count": 4,
     "metadata": {},
     "output_type": "execute_result"
    }
   ],
   "source": [
    "# Get subset of all columns\n",
    "listing_df = listing_df[['id', 'name', 'host_id', 'host_name', 'neighbourhood', 'review_scores_rating',\n",
    "                         'latitude', 'longitude', 'room_type', 'price', 'minimum_nights', 'number_of_reviews', \n",
    "                         'last_review', 'reviews_per_month', 'calculated_host_listings_count', 'availability_365']]\n",
    "print(listing_df.shape)\n",
    "listing_df.head()"
   ]
  },
  {
   "cell_type": "code",
   "execution_count": 8,
   "metadata": {
    "scrolled": true
   },
   "outputs": [
    {
     "ename": "AttributeError",
     "evalue": "'float' object has no attribute 'split'",
     "output_type": "error",
     "traceback": [
      "\u001b[0;31m---------------------------------------------------------------------------\u001b[0m",
      "\u001b[0;31mAttributeError\u001b[0m                            Traceback (most recent call last)",
      "\u001b[0;32m<ipython-input-8-a7730f7e2503>\u001b[0m in \u001b[0;36m<module>\u001b[0;34m\u001b[0m\n\u001b[1;32m      1\u001b[0m \u001b[0;31m# Take comma out of price\u001b[0m\u001b[0;34m\u001b[0m\u001b[0;34m\u001b[0m\u001b[0;34m\u001b[0m\u001b[0m\n\u001b[0;32m----> 2\u001b[0;31m \u001b[0mlisting_df\u001b[0m\u001b[0;34m[\u001b[0m\u001b[0;34m'price'\u001b[0m\u001b[0;34m]\u001b[0m \u001b[0;34m=\u001b[0m \u001b[0mlisting_df\u001b[0m\u001b[0;34m[\u001b[0m\u001b[0;34m'price'\u001b[0m\u001b[0;34m]\u001b[0m\u001b[0;34m.\u001b[0m\u001b[0mapply\u001b[0m\u001b[0;34m(\u001b[0m\u001b[0;32mlambda\u001b[0m \u001b[0mx\u001b[0m\u001b[0;34m:\u001b[0m \u001b[0mfloat\u001b[0m\u001b[0;34m(\u001b[0m\u001b[0mx\u001b[0m\u001b[0;34m.\u001b[0m\u001b[0msplit\u001b[0m\u001b[0;34m(\u001b[0m\u001b[0;34m'$'\u001b[0m\u001b[0;34m)\u001b[0m\u001b[0;34m[\u001b[0m\u001b[0;36m1\u001b[0m\u001b[0;34m]\u001b[0m\u001b[0;34m.\u001b[0m\u001b[0mreplace\u001b[0m\u001b[0;34m(\u001b[0m\u001b[0;34m','\u001b[0m\u001b[0;34m,\u001b[0m \u001b[0;34m''\u001b[0m\u001b[0;34m)\u001b[0m\u001b[0;34m)\u001b[0m\u001b[0;34m)\u001b[0m\u001b[0;34m\u001b[0m\u001b[0;34m\u001b[0m\u001b[0m\n\u001b[0m\u001b[1;32m      3\u001b[0m \u001b[0;31m# Cast string as int\u001b[0m\u001b[0;34m\u001b[0m\u001b[0;34m\u001b[0m\u001b[0;34m\u001b[0m\u001b[0m\n\u001b[1;32m      4\u001b[0m \u001b[0mlisting_df\u001b[0m\u001b[0;34m[\u001b[0m\u001b[0;34m'number_of_reviews'\u001b[0m\u001b[0;34m]\u001b[0m \u001b[0;34m=\u001b[0m \u001b[0mlisting_df\u001b[0m\u001b[0;34m[\u001b[0m\u001b[0;34m'number_of_reviews'\u001b[0m\u001b[0;34m]\u001b[0m\u001b[0;34m.\u001b[0m\u001b[0mapply\u001b[0m\u001b[0;34m(\u001b[0m\u001b[0mint\u001b[0m\u001b[0;34m)\u001b[0m\u001b[0;34m\u001b[0m\u001b[0;34m\u001b[0m\u001b[0m\n",
      "\u001b[0;32m~/anaconda3/lib/python3.7/site-packages/pandas/core/series.py\u001b[0m in \u001b[0;36mapply\u001b[0;34m(self, func, convert_dtype, args, **kwds)\u001b[0m\n\u001b[1;32m   3192\u001b[0m             \u001b[0;32melse\u001b[0m\u001b[0;34m:\u001b[0m\u001b[0;34m\u001b[0m\u001b[0;34m\u001b[0m\u001b[0m\n\u001b[1;32m   3193\u001b[0m                 \u001b[0mvalues\u001b[0m \u001b[0;34m=\u001b[0m \u001b[0mself\u001b[0m\u001b[0;34m.\u001b[0m\u001b[0mastype\u001b[0m\u001b[0;34m(\u001b[0m\u001b[0mobject\u001b[0m\u001b[0;34m)\u001b[0m\u001b[0;34m.\u001b[0m\u001b[0mvalues\u001b[0m\u001b[0;34m\u001b[0m\u001b[0;34m\u001b[0m\u001b[0m\n\u001b[0;32m-> 3194\u001b[0;31m                 \u001b[0mmapped\u001b[0m \u001b[0;34m=\u001b[0m \u001b[0mlib\u001b[0m\u001b[0;34m.\u001b[0m\u001b[0mmap_infer\u001b[0m\u001b[0;34m(\u001b[0m\u001b[0mvalues\u001b[0m\u001b[0;34m,\u001b[0m \u001b[0mf\u001b[0m\u001b[0;34m,\u001b[0m \u001b[0mconvert\u001b[0m\u001b[0;34m=\u001b[0m\u001b[0mconvert_dtype\u001b[0m\u001b[0;34m)\u001b[0m\u001b[0;34m\u001b[0m\u001b[0;34m\u001b[0m\u001b[0m\n\u001b[0m\u001b[1;32m   3195\u001b[0m \u001b[0;34m\u001b[0m\u001b[0m\n\u001b[1;32m   3196\u001b[0m         \u001b[0;32mif\u001b[0m \u001b[0mlen\u001b[0m\u001b[0;34m(\u001b[0m\u001b[0mmapped\u001b[0m\u001b[0;34m)\u001b[0m \u001b[0;32mand\u001b[0m \u001b[0misinstance\u001b[0m\u001b[0;34m(\u001b[0m\u001b[0mmapped\u001b[0m\u001b[0;34m[\u001b[0m\u001b[0;36m0\u001b[0m\u001b[0;34m]\u001b[0m\u001b[0;34m,\u001b[0m \u001b[0mSeries\u001b[0m\u001b[0;34m)\u001b[0m\u001b[0;34m:\u001b[0m\u001b[0;34m\u001b[0m\u001b[0;34m\u001b[0m\u001b[0m\n",
      "\u001b[0;32mpandas/_libs/src/inference.pyx\u001b[0m in \u001b[0;36mpandas._libs.lib.map_infer\u001b[0;34m()\u001b[0m\n",
      "\u001b[0;32m<ipython-input-8-a7730f7e2503>\u001b[0m in \u001b[0;36m<lambda>\u001b[0;34m(x)\u001b[0m\n\u001b[1;32m      1\u001b[0m \u001b[0;31m# Take comma out of price\u001b[0m\u001b[0;34m\u001b[0m\u001b[0;34m\u001b[0m\u001b[0;34m\u001b[0m\u001b[0m\n\u001b[0;32m----> 2\u001b[0;31m \u001b[0mlisting_df\u001b[0m\u001b[0;34m[\u001b[0m\u001b[0;34m'price'\u001b[0m\u001b[0;34m]\u001b[0m \u001b[0;34m=\u001b[0m \u001b[0mlisting_df\u001b[0m\u001b[0;34m[\u001b[0m\u001b[0;34m'price'\u001b[0m\u001b[0;34m]\u001b[0m\u001b[0;34m.\u001b[0m\u001b[0mapply\u001b[0m\u001b[0;34m(\u001b[0m\u001b[0;32mlambda\u001b[0m \u001b[0mx\u001b[0m\u001b[0;34m:\u001b[0m \u001b[0mfloat\u001b[0m\u001b[0;34m(\u001b[0m\u001b[0mx\u001b[0m\u001b[0;34m.\u001b[0m\u001b[0msplit\u001b[0m\u001b[0;34m(\u001b[0m\u001b[0;34m'$'\u001b[0m\u001b[0;34m)\u001b[0m\u001b[0;34m[\u001b[0m\u001b[0;36m1\u001b[0m\u001b[0;34m]\u001b[0m\u001b[0;34m.\u001b[0m\u001b[0mreplace\u001b[0m\u001b[0;34m(\u001b[0m\u001b[0;34m','\u001b[0m\u001b[0;34m,\u001b[0m \u001b[0;34m''\u001b[0m\u001b[0;34m)\u001b[0m\u001b[0;34m)\u001b[0m\u001b[0;34m)\u001b[0m\u001b[0;34m\u001b[0m\u001b[0;34m\u001b[0m\u001b[0m\n\u001b[0m\u001b[1;32m      3\u001b[0m \u001b[0;31m# Cast string as int\u001b[0m\u001b[0;34m\u001b[0m\u001b[0;34m\u001b[0m\u001b[0;34m\u001b[0m\u001b[0m\n\u001b[1;32m      4\u001b[0m \u001b[0mlisting_df\u001b[0m\u001b[0;34m[\u001b[0m\u001b[0;34m'number_of_reviews'\u001b[0m\u001b[0;34m]\u001b[0m \u001b[0;34m=\u001b[0m \u001b[0mlisting_df\u001b[0m\u001b[0;34m[\u001b[0m\u001b[0;34m'number_of_reviews'\u001b[0m\u001b[0;34m]\u001b[0m\u001b[0;34m.\u001b[0m\u001b[0mapply\u001b[0m\u001b[0;34m(\u001b[0m\u001b[0mint\u001b[0m\u001b[0;34m)\u001b[0m\u001b[0;34m\u001b[0m\u001b[0;34m\u001b[0m\u001b[0m\n",
      "\u001b[0;31mAttributeError\u001b[0m: 'float' object has no attribute 'split'"
     ]
    }
   ],
   "source": [
    "# Take comma out of price\n",
    "listing_df['price'] = listing_df['price'].apply(lambda x: float(x.split('$')[1].replace(',', '')))\n",
    "# Cast string as int\n",
    "listing_df['number_of_reviews'] = listing_df['number_of_reviews'].apply(int)"
   ]
  },
  {
   "cell_type": "code",
   "execution_count": null,
   "metadata": {},
   "outputs": [],
   "source": [
    "# Get subset of listings that have reviews\n",
    "listing_df = listing_df[listing_df['review_scores_rating'] != '']\n",
    "print(listing_df.shape)\n",
    "listing_df"
   ]
  },
  {
   "cell_type": "code",
   "execution_count": null,
   "metadata": {},
   "outputs": [],
   "source": []
  },
  {
   "cell_type": "code",
   "execution_count": null,
   "metadata": {},
   "outputs": [],
   "source": []
  },
  {
   "cell_type": "markdown",
   "metadata": {},
   "source": [
    "<b> 1. Identify a dataset to study, and perform an exploratory analysis of the data. Describe the dataset,\n",
    "including its basic statistics and properties, and report any interesting findings. This exploratory analysis\n",
    "should motivate the design of your model in the following sections. Datasets should be reasonably large\n",
    "(e.g. more than 50,000 samples)."
   ]
  },
  {
   "cell_type": "code",
   "execution_count": 9,
   "metadata": {},
   "outputs": [
    {
     "data": {
      "text/plain": [
       "count     62591\n",
       "unique       61\n",
       "top         100\n",
       "freq      17907\n",
       "Name: review_scores_rating, dtype: object"
      ]
     },
     "execution_count": 9,
     "metadata": {},
     "output_type": "execute_result"
    }
   ],
   "source": [
    "# Get statistics of reviews\n",
    "listing_df['review_scores_rating'].describe()"
   ]
  },
  {
   "cell_type": "code",
   "execution_count": 10,
   "metadata": {},
   "outputs": [
    {
     "name": "stdout",
     "output_type": "stream",
     "text": [
      "[0, 295, 11, 251, 173, 1195, 1862, 10939, 29958, 17907]\n"
     ]
    }
   ],
   "source": [
    "# Put ratings into buckets\n",
    "ratings = listing_df['review_scores_rating'].value_counts()\n",
    "dist = [0, 0, 0, 0, 0, 0, 0, 0, 0, 0]\n",
    "uniqueratings = ratings.index.tolist()\n",
    "valratings = ratings.tolist()\n",
    "# loop through unique ratings\n",
    "for j in ratings.iteritems():\n",
    "    ind = math.floor(int(j[0])/10)\n",
    "    dist[ind-1] = dist[ind-1] + j[1]\n",
    "    \n",
    "print(dist)"
   ]
  },
  {
   "cell_type": "code",
   "execution_count": 11,
   "metadata": {},
   "outputs": [
    {
     "data": {
      "image/png": "[encoded data removed]",
      "text/plain": [
       "<Figure size 432x288 with 1 Axes>"
      ]
     },
     "metadata": {
      "needs_background": "light"
     },
     "output_type": "display_data"
    }
   ],
   "source": [
    "# Plot distribution of ratings\n",
    "plt.bar(['0-10', '10-20', '20-30', '30-40', '40-50', '50-60', '60-70', '70-80', '80-90', '90-100'], dist)\n",
    "plt.xlabel('review rating')\n",
    "plt.ylabel('frequency of rating')\n",
    "plt.show()"
   ]
  },
  {
   "cell_type": "code",
   "execution_count": null,
   "metadata": {
    "scrolled": true
   },
   "outputs": [],
   "source": []
  },
  {
   "cell_type": "code",
   "execution_count": 12,
   "metadata": {},
   "outputs": [],
   "source": [
    "# Get list of unique neighbourhoods\n",
    "neighbourhoods = listing_df['neighbourhood'].value_counts()\n",
    "means = []\n",
    "for i in neighbourhoods.index.tolist():\n",
    "    listings = listing_df[listing_df['neighbourhood'] == i]\n",
    "    neighmean = listings['price'].mean()\n",
    "    means.append(neighmean)"
   ]
  },
  {
   "cell_type": "code",
   "execution_count": null,
   "metadata": {},
   "outputs": [],
   "source": []
  },
  {
   "cell_type": "code",
   "execution_count": 13,
   "metadata": {},
   "outputs": [
    {
     "name": "stdout",
     "output_type": "stream",
     "text": [
      "49\n",
      "City of Westminster             4045\n",
      "LB of Tower Hamlets             3456\n",
      "LB of Hackney                   2804\n",
      "LB of Islington                 2797\n",
      "LB of Camden                    2443\n",
      "LB of Southwark                 1972\n",
      "LB of Lambeth                   1911\n",
      "LB of Brent                     1849\n",
      "LB of Wandsworth                1806\n",
      "RB of Kensington and Chelsea    1789\n",
      "LB of Haringey                  1573\n",
      "LB of Hammersmith & Fulham      1512\n",
      "LB of Newham                    1254\n",
      "LB of Barnet                    1065\n",
      "LB of Waltham Forest             992\n",
      "RB of Greenwich                  982\n",
      "LB of Lewisham                   938\n",
      "LB of Ealing                     928\n",
      "Hammersmith                      814\n",
      "Shoreditch                       808\n",
      "LB of Richmond upon Thames       770\n",
      "LB of Croydon                    758\n",
      "Kensington                       752\n",
      "LB of Merton                     716\n",
      "Hampstead                        682\n",
      "LB of Hounslow                   661\n",
      "Whitechapel/Brick Lane           633\n",
      "Chelsea                          580\n",
      "Battersea                        566\n",
      "Marylebone                       489\n",
      "Notting Hill                     482\n",
      "LB of Redbridge                  463\n",
      "LB of Enfield                    446\n",
      "LB of Hillingdon                 429\n",
      "RB of Kingston upon Thames       412\n",
      "Islington                        410\n",
      "Walworth                         410\n",
      "LB of Bromley                    408\n",
      "Pimlico                          405\n",
      "Acton                            402\n",
      "Earls Court                      400\n",
      "The West End                     400\n",
      "Fulham                           398\n",
      "Bayswater                        397\n",
      "Bermondsey                       373\n",
      "Isle of Dogs                     370\n",
      "Clerkenwell                      365\n",
      "Brixton                          364\n",
      "Stoke Newington                  360\n",
      "Name: neighbourhood, dtype: int64\n"
     ]
    }
   ],
   "source": [
    "# Get neighbourhoods that make up top 50,000 listings\n",
    "c = 0\n",
    "neigh = []\n",
    "for j in neighbourhoods.index.tolist():\n",
    "    neigh.append(neighbourhoods[j])\n",
    "    c = c + neighbourhoods[j]\n",
    "    if (c > 50000): break\n",
    "        \n",
    "print(len(neigh))\n",
    "print(neighbourhoods[:49])"
   ]
  },
  {
   "cell_type": "code",
   "execution_count": null,
   "metadata": {
    "scrolled": true
   },
   "outputs": [],
   "source": []
  },
  {
   "cell_type": "code",
   "execution_count": 14,
   "metadata": {},
   "outputs": [
    {
     "data": {
      "text/plain": [
       "Mayfair          528.418919\n",
       "Parsons Green    359.229167\n",
       "Westminster      355.860294\n",
       "Clerkenwell      317.495890\n",
       "Knightsbridge    310.403974\n",
       "dtype: float64"
      ]
     },
     "execution_count": 14,
     "metadata": {},
     "output_type": "execute_result"
    }
   ],
   "source": [
    "# Sort neighbourhoods by max mean price\n",
    "neighdict = dict(zip(neighbourhoods.index, means))\n",
    "neigh = pd.Series(neighdict).sort_values(ascending = False)\n",
    "neigh.head()"
   ]
  },
  {
   "cell_type": "code",
   "execution_count": null,
   "metadata": {},
   "outputs": [],
   "source": []
  },
  {
   "cell_type": "code",
   "execution_count": 15,
   "metadata": {},
   "outputs": [
    {
     "data": {
      "text/plain": [
       "count    62591.000000\n",
       "mean       117.474190\n",
       "std        426.903938\n",
       "min          0.000000\n",
       "25%         45.000000\n",
       "50%         80.000000\n",
       "75%        130.000000\n",
       "max      20000.000000\n",
       "Name: price, dtype: float64"
      ]
     },
     "execution_count": 15,
     "metadata": {},
     "output_type": "execute_result"
    }
   ],
   "source": [
    "# Get statistics of prices\n",
    "listing_df['price'].describe()"
   ]
  },
  {
   "cell_type": "code",
   "execution_count": 16,
   "metadata": {},
   "outputs": [
    {
     "data": {
      "text/plain": [
       "Hotel room         180.670042\n",
       "Entire home/apt    163.624661\n",
       "Private room        52.015251\n",
       "Shared room         37.664894\n",
       "dtype: float64"
      ]
     },
     "execution_count": 16,
     "metadata": {},
     "output_type": "execute_result"
    }
   ],
   "source": [
    "# Get mean price for each type of room\n",
    "roommean = []\n",
    "for j in listing_df['room_type'].unique():\n",
    "    rooms = listing_df[listing_df['room_type'] == j]\n",
    "    roommean.append(rooms['price'].mean())\n",
    "\n",
    "roomprices = dict(zip(listing_df['room_type'].unique(), roommean))\n",
    "pd.Series(roomprices).sort_values(ascending = False)"
   ]
  },
  {
   "cell_type": "code",
   "execution_count": null,
   "metadata": {},
   "outputs": [],
   "source": []
  },
  {
   "cell_type": "markdown",
   "metadata": {},
   "source": [
    "<b> 2. Identify a predictive task that can be studied on this dataset. Describe how you will evaluate your\n",
    "model at this predictive task, what relevant baselines can be used for comparison, and how you will assess\n",
    "the validity of your model’s predictions. It’s fine to use models that were described in class here (i.e.,\n",
    "you don’t have to invent anything new (though you may!)), though you should explain and justify which\n",
    "model was appropriate for the task. It’s also important in this section to carefully describe what features\n",
    "you will use and how you had to process the data to obtain them."
   ]
  },
  {
   "cell_type": "code",
   "execution_count": null,
   "metadata": {},
   "outputs": [],
   "source": [
    "# Try to predict the review rating based on reviews, price, room type, number of reviews, reviews per month, neighbourhood"
   ]
  }
 ],
 "metadata": {
  "kernelspec": {
   "display_name": "Python 3",
   "language": "python",
   "name": "python3"
  },
  "language_info": {
   "codemirror_mode": {
    "name": "ipython",
    "version": 3
   },
   "file_extension": ".py",
   "mimetype": "text/x-python",
   "name": "python",
   "nbconvert_exporter": "python",
   "pygments_lexer": "ipython3",
   "version": "3.7.1"
  }
 },
 "nbformat": 4,
 "nbformat_minor": 2
}
